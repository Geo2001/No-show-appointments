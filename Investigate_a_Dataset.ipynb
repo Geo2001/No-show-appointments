{
 "cells": [
  {
   "cell_type": "markdown",
   "metadata": {},
   "source": [
    "\n",
    "\n",
    "# Project: Investigate a Dataset - [No Show Appointments]\n",
    "\n",
    "## Table of Contents\n",
    "<ul>\n",
    "<li><a href=\"#intro\">Introduction</a></li>\n",
    "<li><a href=\"#wrangling\">Data Wrangling</a></li>\n",
    "<li><a href=\"#eda\">Exploratory Data Analysis</a></li>\n",
    "<li><a href=\"#conclusions\">Conclusions</a></li>\n",
    "</ul>"
   ]
  },
  {
   "cell_type": "markdown",
   "metadata": {},
   "source": [
    "<a id='intro'></a>\n",
    "## Introduction\n",
    "\n",
    "### Dataset Description \n",
    "\n",
    "This dataset collects information from 100k medical appointments in Brazil and is focused on the question of whether or not patients show up for their appointment. A number of characteristics about the patient are included in each row, we will drop a brief about each column's significance, but more details are offered on the website [here](https://docs.google.com/document/d/e/2PACX-1vTlVmknRRnfy_4eTrjw5hYGaiQim5ctr9naaRd4V9du2B5bxpd8FEH3KtDgp8qVekw7Cj1GLk1IXdZi/pub?embedded=True). \n",
    "\n",
    "The columns are as follows:\n",
    "\n",
    "    • PatientID : icluding the ID for each patient\n",
    "    • AppointmentID: the ID of the appointment\n",
    "    • ScheduledDay: the day when the patient made the reservation\n",
    "    • AppointmentDay: the day of the appointment at the clinic\n",
    "    • Age: patient age\n",
    "    • Neighbourhood: the area including the hospital\n",
    "    • Hipertension,Diabetes,Alcoholism: binary columns(1=Yes, 0=No)      indicating if the patient suffers these diseases\n",
    "    • Handcap: on a scale from 0 to 4, it indicates the degree of handcap of the patient\n",
    "    • Scholarship: a binary column telling whether or not the patient is enrolled in Brasilian welfare program Bolsa Família.\n",
    "    • sms_received: binary column indicating whether or not a message was received \n",
    "    • no-show: binary column indicating whether or not the patient DID NOT attend their appointment\n",
    "\n",
    "\n",
    "\n",
    "\n",
    "### Worth a note: many modifications on columns names and content are to be done based on the project need, each specified before execution ..  \n",
    "\n",
    "\n",
    "\n",
    "### Question(s) for Analysis:\n",
    "\n",
    "Here, we should have ideally specified two or three variables to study their effect on patients not attending their appointments, however, as long as we have the sufficient amount of data, we will analyze as much columns as possible, in order to know exactly, what are the factors affecting the most the \"no-show\" incidents that happened and how can we work on them, which is actually the purpose of our research. \n",
    "Therefore, our research questions will be practically two main questions repeated for each aspect that we study, these aspects are explained clearly below before defining each of our two primary functions in the research.\n",
    "\n"
   ]
  },
  {
   "cell_type": "code",
   "execution_count": 1,
   "metadata": {},
   "outputs": [],
   "source": [
    "# Use this cell to set up import statements for all of the packages that you\n",
    "#   plan to use.\n",
    "\n",
    "# Remember to include a 'magic word' so that your visualizations are plotted\n",
    "#   inline with the notebook. See this page for more:\n",
    "#   http://ipython.readthedocs.io/en/stable/interactive/magics.html\n",
    "import numpy as np\n",
    "import pandas as pd\n",
    "import matplotlib\n",
    "import matplotlib.pyplot as plt\n",
    "%matplotlib inline\n",
    "import seaborn as sns\n"
   ]
  },
  {
   "cell_type": "markdown",
   "metadata": {},
   "source": [
    "In this investigation, we will have two procedures, repeating both of them for each aspect (df column) of our dataset. The first procedure in the function below is based on data from patients who did not attend their appointments(no_show), we study the most common charactaristic among people who missed their appointments for each aspect(df column). \n",
    "Example: among people who missed their appointments, what is the more dominant gender. (Here the aspect column being : 'gender') \n",
    "\n",
    "We discover the dominant aspect, in addition to counts of all aspects through printing the count of each aspects of respective column, in addition to plotting all the data in bar plot to visualize data."
   ]
  },
  {
   "cell_type": "code",
   "execution_count": 2,
   "metadata": {},
   "outputs": [],
   "source": [
    "def first_procedure (df, col, x_labels, title, y_label=\"Counts\"):\n",
    "    \n",
    "    '''\n",
    "    df: the original cleaned dataframe\n",
    "    col: the col of interest for analyzing the dominant feature among it for no_show appointments for this function call\n",
    "    x_labels: labels of the bars on the x-axis\n",
    "    title: the plot title\n",
    "    y_label: y-axix label\n",
    "    '''\n",
    "    df_noshow = df.query('Attendance == \"0\"')\n",
    "    print(\"The distribution of {} of people with no show is as follows: \\n\".format(col))\n",
    "    \n",
    "    print(df_noshow[col].value_counts()) \n",
    "    #lets plot\n",
    "    heights = df_noshow[col].value_counts()\n",
    "    print(\"And here is the visualization of these results : \\n\")\n",
    "    plt.bar(x_labels, heights, color ='black')\n",
    "    plt.title(title)\n",
    "    plt.ylabel(y_label)\n",
    "    plt.xlabel(col.title());\n",
    "\n",
    "    \n"
   ]
  },
  {
   "cell_type": "markdown",
   "metadata": {},
   "source": [
    "For this procedure, we do it the other way round, that is for each aspect(column), we group it into all groups of all its possible charactaristics (Example: Females and Males for 'gender' column), then study for each group, what is the more dominant behvaviour, attending or not attending, by calculating the mean of 'Attendance' column value for each group, knowing that after editing the dataset, we have the column 'Attendance' with 1 for show and 0 for no show, therefore, the group with the lowest mean for 'Attendance' is the most probable group not to show up, that we should deal seriously with to prevent these 'no-shows' from happening. Also, the mean (scaled by 100) for each group is plotted in a bar plot to visualize which is the group with least mean easily."
   ]
  },
  {
   "cell_type": "code",
   "execution_count": 3,
   "metadata": {},
   "outputs": [],
   "source": [
    "#second_procedure_function\n",
    "def second_procedure(df,col,x_labels,title,y_label=\"Mean Attendance\"):\n",
    "    '''\n",
    "    df: the original cleaned dataframe\n",
    "    col: the col of interest for analyzing its constituents' means for this function call\n",
    "    x_labels: labels of the bars on the x-axis\n",
    "    title: the plot title\n",
    "    y_label: y-axix label\n",
    "    '''\n",
    "    df_mean = df.groupby(col)['Attendance'].mean() \n",
    "    print(\"The mean attendace per all categories of {} is as follows: \\n\".format(col))\n",
    "    print(df_mean)\n",
    "    #let's visualize\n",
    "    print(\"\\n \\n Here is the visualization of these results : \\n\")\n",
    "    heights = df_mean * 100\n",
    "\n",
    "    plt.bar(x_labels, heights, color ='black')\n",
    "    plt.title(title)\n",
    "    plt.ylabel(y_label)\n",
    "    plt.xlabel(col.title());"
   ]
  },
  {
   "cell_type": "code",
   "execution_count": 4,
   "metadata": {},
   "outputs": [],
   "source": [
    "# Upgrade pandas to use dataframe.explode() function. \n",
    "#!pip install --upgrade pandas==0.25.0"
   ]
  },
  {
   "cell_type": "markdown",
   "metadata": {},
   "source": [
    "<a id='wrangling'></a>\n",
    "## Data Wrangling\n",
    "\n",
    "Here we load in the data, check for cleanliness, and then trim and clean the dataset for analysis. We will document each cleaning or editing step before execution.\n",
    "\n",
    "\n",
    "> In the following cells we will check our data and search for any unusual entries, in addition to removing duplicates and all similar issues, at the end of this section we will have our clean easy-handled dataset ready for further analysis."
   ]
  },
  {
   "cell_type": "code",
   "execution_count": 5,
   "metadata": {
    "scrolled": true
   },
   "outputs": [
    {
     "data": {
      "text/html": [
       "<div>\n",
       "<style scoped>\n",
       "    .dataframe tbody tr th:only-of-type {\n",
       "        vertical-align: middle;\n",
       "    }\n",
       "\n",
       "    .dataframe tbody tr th {\n",
       "        vertical-align: top;\n",
       "    }\n",
       "\n",
       "    .dataframe thead th {\n",
       "        text-align: right;\n",
       "    }\n",
       "</style>\n",
       "<table border=\"1\" class=\"dataframe\">\n",
       "  <thead>\n",
       "    <tr style=\"text-align: right;\">\n",
       "      <th></th>\n",
       "      <th>PatientId</th>\n",
       "      <th>AppointmentID</th>\n",
       "      <th>Gender</th>\n",
       "      <th>ScheduledDay</th>\n",
       "      <th>AppointmentDay</th>\n",
       "      <th>Age</th>\n",
       "      <th>Neighbourhood</th>\n",
       "      <th>Scholarship</th>\n",
       "      <th>Hipertension</th>\n",
       "      <th>Diabetes</th>\n",
       "      <th>Alcoholism</th>\n",
       "      <th>Handcap</th>\n",
       "      <th>SMS_received</th>\n",
       "      <th>No-show</th>\n",
       "    </tr>\n",
       "  </thead>\n",
       "  <tbody>\n",
       "    <tr>\n",
       "      <th>0</th>\n",
       "      <td>2.987250e+13</td>\n",
       "      <td>5642903</td>\n",
       "      <td>F</td>\n",
       "      <td>2016-04-29T18:38:08Z</td>\n",
       "      <td>2016-04-29T00:00:00Z</td>\n",
       "      <td>62</td>\n",
       "      <td>JARDIM DA PENHA</td>\n",
       "      <td>0</td>\n",
       "      <td>1</td>\n",
       "      <td>0</td>\n",
       "      <td>0</td>\n",
       "      <td>0</td>\n",
       "      <td>0</td>\n",
       "      <td>No</td>\n",
       "    </tr>\n",
       "    <tr>\n",
       "      <th>1</th>\n",
       "      <td>5.589978e+14</td>\n",
       "      <td>5642503</td>\n",
       "      <td>M</td>\n",
       "      <td>2016-04-29T16:08:27Z</td>\n",
       "      <td>2016-04-29T00:00:00Z</td>\n",
       "      <td>56</td>\n",
       "      <td>JARDIM DA PENHA</td>\n",
       "      <td>0</td>\n",
       "      <td>0</td>\n",
       "      <td>0</td>\n",
       "      <td>0</td>\n",
       "      <td>0</td>\n",
       "      <td>0</td>\n",
       "      <td>No</td>\n",
       "    </tr>\n",
       "    <tr>\n",
       "      <th>2</th>\n",
       "      <td>4.262962e+12</td>\n",
       "      <td>5642549</td>\n",
       "      <td>F</td>\n",
       "      <td>2016-04-29T16:19:04Z</td>\n",
       "      <td>2016-04-29T00:00:00Z</td>\n",
       "      <td>62</td>\n",
       "      <td>MATA DA PRAIA</td>\n",
       "      <td>0</td>\n",
       "      <td>0</td>\n",
       "      <td>0</td>\n",
       "      <td>0</td>\n",
       "      <td>0</td>\n",
       "      <td>0</td>\n",
       "      <td>No</td>\n",
       "    </tr>\n",
       "    <tr>\n",
       "      <th>3</th>\n",
       "      <td>8.679512e+11</td>\n",
       "      <td>5642828</td>\n",
       "      <td>F</td>\n",
       "      <td>2016-04-29T17:29:31Z</td>\n",
       "      <td>2016-04-29T00:00:00Z</td>\n",
       "      <td>8</td>\n",
       "      <td>PONTAL DE CAMBURI</td>\n",
       "      <td>0</td>\n",
       "      <td>0</td>\n",
       "      <td>0</td>\n",
       "      <td>0</td>\n",
       "      <td>0</td>\n",
       "      <td>0</td>\n",
       "      <td>No</td>\n",
       "    </tr>\n",
       "    <tr>\n",
       "      <th>4</th>\n",
       "      <td>8.841186e+12</td>\n",
       "      <td>5642494</td>\n",
       "      <td>F</td>\n",
       "      <td>2016-04-29T16:07:23Z</td>\n",
       "      <td>2016-04-29T00:00:00Z</td>\n",
       "      <td>56</td>\n",
       "      <td>JARDIM DA PENHA</td>\n",
       "      <td>0</td>\n",
       "      <td>1</td>\n",
       "      <td>1</td>\n",
       "      <td>0</td>\n",
       "      <td>0</td>\n",
       "      <td>0</td>\n",
       "      <td>No</td>\n",
       "    </tr>\n",
       "  </tbody>\n",
       "</table>\n",
       "</div>"
      ],
      "text/plain": [
       "      PatientId  AppointmentID Gender          ScheduledDay  \\\n",
       "0  2.987250e+13        5642903      F  2016-04-29T18:38:08Z   \n",
       "1  5.589978e+14        5642503      M  2016-04-29T16:08:27Z   \n",
       "2  4.262962e+12        5642549      F  2016-04-29T16:19:04Z   \n",
       "3  8.679512e+11        5642828      F  2016-04-29T17:29:31Z   \n",
       "4  8.841186e+12        5642494      F  2016-04-29T16:07:23Z   \n",
       "\n",
       "         AppointmentDay  Age      Neighbourhood  Scholarship  Hipertension  \\\n",
       "0  2016-04-29T00:00:00Z   62    JARDIM DA PENHA            0             1   \n",
       "1  2016-04-29T00:00:00Z   56    JARDIM DA PENHA            0             0   \n",
       "2  2016-04-29T00:00:00Z   62      MATA DA PRAIA            0             0   \n",
       "3  2016-04-29T00:00:00Z    8  PONTAL DE CAMBURI            0             0   \n",
       "4  2016-04-29T00:00:00Z   56    JARDIM DA PENHA            0             1   \n",
       "\n",
       "   Diabetes  Alcoholism  Handcap  SMS_received No-show  \n",
       "0         0           0        0             0      No  \n",
       "1         0           0        0             0      No  \n",
       "2         0           0        0             0      No  \n",
       "3         0           0        0             0      No  \n",
       "4         1           0        0             0      No  "
      ]
     },
     "execution_count": 5,
     "metadata": {},
     "output_type": "execute_result"
    }
   ],
   "source": [
    "\n",
    "df = pd.read_csv('noshowappointments-kagglev2-may-2016.csv')\n",
    "df.head()"
   ]
  },
  {
   "cell_type": "markdown",
   "metadata": {},
   "source": [
    "Casting all columns to lowercase for ease of access:"
   ]
  },
  {
   "cell_type": "code",
   "execution_count": 6,
   "metadata": {},
   "outputs": [
    {
     "data": {
      "text/html": [
       "<div>\n",
       "<style scoped>\n",
       "    .dataframe tbody tr th:only-of-type {\n",
       "        vertical-align: middle;\n",
       "    }\n",
       "\n",
       "    .dataframe tbody tr th {\n",
       "        vertical-align: top;\n",
       "    }\n",
       "\n",
       "    .dataframe thead th {\n",
       "        text-align: right;\n",
       "    }\n",
       "</style>\n",
       "<table border=\"1\" class=\"dataframe\">\n",
       "  <thead>\n",
       "    <tr style=\"text-align: right;\">\n",
       "      <th></th>\n",
       "      <th>patientid</th>\n",
       "      <th>appointmentid</th>\n",
       "      <th>gender</th>\n",
       "      <th>scheduledday</th>\n",
       "      <th>appointmentday</th>\n",
       "      <th>age</th>\n",
       "      <th>neighbourhood</th>\n",
       "      <th>scholarship</th>\n",
       "      <th>hipertension</th>\n",
       "      <th>diabetes</th>\n",
       "      <th>alcoholism</th>\n",
       "      <th>handcap</th>\n",
       "      <th>sms_received</th>\n",
       "      <th>no-show</th>\n",
       "    </tr>\n",
       "  </thead>\n",
       "  <tbody>\n",
       "    <tr>\n",
       "      <th>0</th>\n",
       "      <td>2.987250e+13</td>\n",
       "      <td>5642903</td>\n",
       "      <td>F</td>\n",
       "      <td>2016-04-29T18:38:08Z</td>\n",
       "      <td>2016-04-29T00:00:00Z</td>\n",
       "      <td>62</td>\n",
       "      <td>JARDIM DA PENHA</td>\n",
       "      <td>0</td>\n",
       "      <td>1</td>\n",
       "      <td>0</td>\n",
       "      <td>0</td>\n",
       "      <td>0</td>\n",
       "      <td>0</td>\n",
       "      <td>No</td>\n",
       "    </tr>\n",
       "  </tbody>\n",
       "</table>\n",
       "</div>"
      ],
      "text/plain": [
       "      patientid  appointmentid gender          scheduledday  \\\n",
       "0  2.987250e+13        5642903      F  2016-04-29T18:38:08Z   \n",
       "\n",
       "         appointmentday  age    neighbourhood  scholarship  hipertension  \\\n",
       "0  2016-04-29T00:00:00Z   62  JARDIM DA PENHA            0             1   \n",
       "\n",
       "   diabetes  alcoholism  handcap  sms_received no-show  \n",
       "0         0           0        0             0      No  "
      ]
     },
     "execution_count": 6,
     "metadata": {},
     "output_type": "execute_result"
    }
   ],
   "source": [
    "\n",
    "for col in df.columns:\n",
    "    df.rename(columns = {col : col.lower()}, inplace=True)\n",
    "df.head(1)"
   ]
  },
  {
   "cell_type": "markdown",
   "metadata": {},
   "source": [
    "Knowing the dimensions of our dataset:"
   ]
  },
  {
   "cell_type": "code",
   "execution_count": 7,
   "metadata": {},
   "outputs": [
    {
     "data": {
      "text/plain": [
       "(110527, 14)"
      ]
     },
     "execution_count": 7,
     "metadata": {},
     "output_type": "execute_result"
    }
   ],
   "source": [
    "df.shape #data has 110527 rows, 14 columns"
   ]
  },
  {
   "cell_type": "markdown",
   "metadata": {},
   "source": [
    "The dataset has 110527 rows and 14 columns"
   ]
  },
  {
   "cell_type": "code",
   "execution_count": 8,
   "metadata": {
    "scrolled": true
   },
   "outputs": [
    {
     "name": "stdout",
     "output_type": "stream",
     "text": [
      "<class 'pandas.core.frame.DataFrame'>\n",
      "RangeIndex: 110527 entries, 0 to 110526\n",
      "Data columns (total 14 columns):\n",
      "patientid         110527 non-null float64\n",
      "appointmentid     110527 non-null int64\n",
      "gender            110527 non-null object\n",
      "scheduledday      110527 non-null object\n",
      "appointmentday    110527 non-null object\n",
      "age               110527 non-null int64\n",
      "neighbourhood     110527 non-null object\n",
      "scholarship       110527 non-null int64\n",
      "hipertension      110527 non-null int64\n",
      "diabetes          110527 non-null int64\n",
      "alcoholism        110527 non-null int64\n",
      "handcap           110527 non-null int64\n",
      "sms_received      110527 non-null int64\n",
      "no-show           110527 non-null object\n",
      "dtypes: float64(1), int64(8), object(5)\n",
      "memory usage: 11.8+ MB\n"
     ]
    }
   ],
   "source": [
    "df.info() "
   ]
  },
  {
   "cell_type": "markdown",
   "metadata": {},
   "source": [
    "We made sure that we have no NaN values in our data"
   ]
  },
  {
   "cell_type": "code",
   "execution_count": 9,
   "metadata": {},
   "outputs": [],
   "source": [
    "df.rename(columns = {'no-show':'no_show'}, inplace=True)"
   ]
  },
  {
   "cell_type": "markdown",
   "metadata": {},
   "source": [
    "We renamed no-show to no_show to facilitate use in functions"
   ]
  },
  {
   "cell_type": "code",
   "execution_count": 10,
   "metadata": {},
   "outputs": [
    {
     "name": "stderr",
     "output_type": "stream",
     "text": [
      "/usr/local/lib/python2.7/dist-packages/pandas/core/indexing.py:190: SettingWithCopyWarning: \n",
      "A value is trying to be set on a copy of a slice from a DataFrame\n",
      "\n",
      "See the caveats in the documentation: http://pandas.pydata.org/pandas-docs/stable/indexing.html#indexing-view-versus-copy\n",
      "  self._setitem_with_indexer(indexer, value)\n"
     ]
    }
   ],
   "source": [
    "#df[df['no-show']=='Yes']['no-show']='hhhh'\n",
    "df['no_show'].loc[(df['no_show'] == 'Yes')] = \"no_show\"\n",
    "df['no_show'].loc[(df['no_show'] == 'No')] = \"Attended\"\n",
    "#df[df['no_show']=='Attended'].shape\n"
   ]
  },
  {
   "cell_type": "markdown",
   "metadata": {},
   "source": [
    "Tried naming the column entries as strings, but we will need them as integers for mean calculations, so we will change them to int, and change the convention to be attendance=1, no_show=0, to be more familiar"
   ]
  },
  {
   "cell_type": "code",
   "execution_count": 11,
   "metadata": {},
   "outputs": [],
   "source": [
    "df.rename(columns = {'no_show':'Attendance'}, inplace=True)"
   ]
  },
  {
   "cell_type": "code",
   "execution_count": 12,
   "metadata": {},
   "outputs": [],
   "source": [
    "df['Attendance'].loc[(df['Attendance'] == 'Attended')] = 1\n",
    "df['Attendance'].loc[(df['Attendance'] == 'no_show')] = 0"
   ]
  },
  {
   "cell_type": "code",
   "execution_count": 13,
   "metadata": {},
   "outputs": [],
   "source": [
    "df['Attendance'] = df['Attendance'].astype(int) "
   ]
  },
  {
   "cell_type": "markdown",
   "metadata": {},
   "source": [
    "Renaming no-show column and its entries into Attendance and casting its dtype into int to ease numerical analysis"
   ]
  },
  {
   "cell_type": "code",
   "execution_count": 14,
   "metadata": {
    "scrolled": false
   },
   "outputs": [
    {
     "data": {
      "text/html": [
       "<div>\n",
       "<style scoped>\n",
       "    .dataframe tbody tr th:only-of-type {\n",
       "        vertical-align: middle;\n",
       "    }\n",
       "\n",
       "    .dataframe tbody tr th {\n",
       "        vertical-align: top;\n",
       "    }\n",
       "\n",
       "    .dataframe thead th {\n",
       "        text-align: right;\n",
       "    }\n",
       "</style>\n",
       "<table border=\"1\" class=\"dataframe\">\n",
       "  <thead>\n",
       "    <tr style=\"text-align: right;\">\n",
       "      <th></th>\n",
       "      <th>patientid</th>\n",
       "      <th>appointmentid</th>\n",
       "      <th>gender</th>\n",
       "      <th>scheduledday</th>\n",
       "      <th>appointmentday</th>\n",
       "      <th>age</th>\n",
       "      <th>neighbourhood</th>\n",
       "      <th>scholarship</th>\n",
       "      <th>hipertension</th>\n",
       "      <th>diabetes</th>\n",
       "      <th>alcoholism</th>\n",
       "      <th>handcap</th>\n",
       "      <th>sms_received</th>\n",
       "      <th>Attendance</th>\n",
       "    </tr>\n",
       "  </thead>\n",
       "  <tbody>\n",
       "    <tr>\n",
       "      <th>110526</th>\n",
       "      <td>3.775115e+14</td>\n",
       "      <td>5629448</td>\n",
       "      <td>F</td>\n",
       "      <td>2016-04-27T13:30:56Z</td>\n",
       "      <td>2016-06-07T00:00:00Z</td>\n",
       "      <td>54</td>\n",
       "      <td>MARIA ORTIZ</td>\n",
       "      <td>0</td>\n",
       "      <td>0</td>\n",
       "      <td>0</td>\n",
       "      <td>0</td>\n",
       "      <td>0</td>\n",
       "      <td>1</td>\n",
       "      <td>1</td>\n",
       "    </tr>\n",
       "  </tbody>\n",
       "</table>\n",
       "</div>"
      ],
      "text/plain": [
       "           patientid  appointmentid gender          scheduledday  \\\n",
       "110526  3.775115e+14        5629448      F  2016-04-27T13:30:56Z   \n",
       "\n",
       "              appointmentday  age neighbourhood  scholarship  hipertension  \\\n",
       "110526  2016-06-07T00:00:00Z   54   MARIA ORTIZ            0             0   \n",
       "\n",
       "        diabetes  alcoholism  handcap  sms_received  Attendance  \n",
       "110526         0           0        0             1           1  "
      ]
     },
     "execution_count": 14,
     "metadata": {},
     "output_type": "execute_result"
    }
   ],
   "source": [
    "df.tail(1)"
   ]
  },
  {
   "cell_type": "markdown",
   "metadata": {},
   "source": [
    "Checking there are no duplicates:"
   ]
  },
  {
   "cell_type": "code",
   "execution_count": 15,
   "metadata": {},
   "outputs": [
    {
     "data": {
      "text/plain": [
       "0"
      ]
     },
     "execution_count": 15,
     "metadata": {},
     "output_type": "execute_result"
    }
   ],
   "source": [
    "df.duplicated().sum()"
   ]
  },
  {
   "cell_type": "markdown",
   "metadata": {},
   "source": [
    "Exploring data statistics to detect any unusual patterns:"
   ]
  },
  {
   "cell_type": "code",
   "execution_count": 16,
   "metadata": {},
   "outputs": [
    {
     "data": {
      "text/html": [
       "<div>\n",
       "<style scoped>\n",
       "    .dataframe tbody tr th:only-of-type {\n",
       "        vertical-align: middle;\n",
       "    }\n",
       "\n",
       "    .dataframe tbody tr th {\n",
       "        vertical-align: top;\n",
       "    }\n",
       "\n",
       "    .dataframe thead th {\n",
       "        text-align: right;\n",
       "    }\n",
       "</style>\n",
       "<table border=\"1\" class=\"dataframe\">\n",
       "  <thead>\n",
       "    <tr style=\"text-align: right;\">\n",
       "      <th></th>\n",
       "      <th>patientid</th>\n",
       "      <th>appointmentid</th>\n",
       "      <th>age</th>\n",
       "      <th>scholarship</th>\n",
       "      <th>hipertension</th>\n",
       "      <th>diabetes</th>\n",
       "      <th>alcoholism</th>\n",
       "      <th>handcap</th>\n",
       "      <th>sms_received</th>\n",
       "      <th>Attendance</th>\n",
       "    </tr>\n",
       "  </thead>\n",
       "  <tbody>\n",
       "    <tr>\n",
       "      <th>count</th>\n",
       "      <td>1.105270e+05</td>\n",
       "      <td>1.105270e+05</td>\n",
       "      <td>110527.000000</td>\n",
       "      <td>110527.000000</td>\n",
       "      <td>110527.000000</td>\n",
       "      <td>110527.000000</td>\n",
       "      <td>110527.000000</td>\n",
       "      <td>110527.000000</td>\n",
       "      <td>110527.000000</td>\n",
       "      <td>110527.000000</td>\n",
       "    </tr>\n",
       "    <tr>\n",
       "      <th>mean</th>\n",
       "      <td>1.474963e+14</td>\n",
       "      <td>5.675305e+06</td>\n",
       "      <td>37.088874</td>\n",
       "      <td>0.098266</td>\n",
       "      <td>0.197246</td>\n",
       "      <td>0.071865</td>\n",
       "      <td>0.030400</td>\n",
       "      <td>0.022248</td>\n",
       "      <td>0.321026</td>\n",
       "      <td>0.798067</td>\n",
       "    </tr>\n",
       "    <tr>\n",
       "      <th>std</th>\n",
       "      <td>2.560949e+14</td>\n",
       "      <td>7.129575e+04</td>\n",
       "      <td>23.110205</td>\n",
       "      <td>0.297675</td>\n",
       "      <td>0.397921</td>\n",
       "      <td>0.258265</td>\n",
       "      <td>0.171686</td>\n",
       "      <td>0.161543</td>\n",
       "      <td>0.466873</td>\n",
       "      <td>0.401444</td>\n",
       "    </tr>\n",
       "    <tr>\n",
       "      <th>min</th>\n",
       "      <td>3.921784e+04</td>\n",
       "      <td>5.030230e+06</td>\n",
       "      <td>-1.000000</td>\n",
       "      <td>0.000000</td>\n",
       "      <td>0.000000</td>\n",
       "      <td>0.000000</td>\n",
       "      <td>0.000000</td>\n",
       "      <td>0.000000</td>\n",
       "      <td>0.000000</td>\n",
       "      <td>0.000000</td>\n",
       "    </tr>\n",
       "    <tr>\n",
       "      <th>25%</th>\n",
       "      <td>4.172614e+12</td>\n",
       "      <td>5.640286e+06</td>\n",
       "      <td>18.000000</td>\n",
       "      <td>0.000000</td>\n",
       "      <td>0.000000</td>\n",
       "      <td>0.000000</td>\n",
       "      <td>0.000000</td>\n",
       "      <td>0.000000</td>\n",
       "      <td>0.000000</td>\n",
       "      <td>1.000000</td>\n",
       "    </tr>\n",
       "    <tr>\n",
       "      <th>50%</th>\n",
       "      <td>3.173184e+13</td>\n",
       "      <td>5.680573e+06</td>\n",
       "      <td>37.000000</td>\n",
       "      <td>0.000000</td>\n",
       "      <td>0.000000</td>\n",
       "      <td>0.000000</td>\n",
       "      <td>0.000000</td>\n",
       "      <td>0.000000</td>\n",
       "      <td>0.000000</td>\n",
       "      <td>1.000000</td>\n",
       "    </tr>\n",
       "    <tr>\n",
       "      <th>75%</th>\n",
       "      <td>9.439172e+13</td>\n",
       "      <td>5.725524e+06</td>\n",
       "      <td>55.000000</td>\n",
       "      <td>0.000000</td>\n",
       "      <td>0.000000</td>\n",
       "      <td>0.000000</td>\n",
       "      <td>0.000000</td>\n",
       "      <td>0.000000</td>\n",
       "      <td>1.000000</td>\n",
       "      <td>1.000000</td>\n",
       "    </tr>\n",
       "    <tr>\n",
       "      <th>max</th>\n",
       "      <td>9.999816e+14</td>\n",
       "      <td>5.790484e+06</td>\n",
       "      <td>115.000000</td>\n",
       "      <td>1.000000</td>\n",
       "      <td>1.000000</td>\n",
       "      <td>1.000000</td>\n",
       "      <td>1.000000</td>\n",
       "      <td>4.000000</td>\n",
       "      <td>1.000000</td>\n",
       "      <td>1.000000</td>\n",
       "    </tr>\n",
       "  </tbody>\n",
       "</table>\n",
       "</div>"
      ],
      "text/plain": [
       "          patientid  appointmentid            age    scholarship  \\\n",
       "count  1.105270e+05   1.105270e+05  110527.000000  110527.000000   \n",
       "mean   1.474963e+14   5.675305e+06      37.088874       0.098266   \n",
       "std    2.560949e+14   7.129575e+04      23.110205       0.297675   \n",
       "min    3.921784e+04   5.030230e+06      -1.000000       0.000000   \n",
       "25%    4.172614e+12   5.640286e+06      18.000000       0.000000   \n",
       "50%    3.173184e+13   5.680573e+06      37.000000       0.000000   \n",
       "75%    9.439172e+13   5.725524e+06      55.000000       0.000000   \n",
       "max    9.999816e+14   5.790484e+06     115.000000       1.000000   \n",
       "\n",
       "        hipertension       diabetes     alcoholism        handcap  \\\n",
       "count  110527.000000  110527.000000  110527.000000  110527.000000   \n",
       "mean        0.197246       0.071865       0.030400       0.022248   \n",
       "std         0.397921       0.258265       0.171686       0.161543   \n",
       "min         0.000000       0.000000       0.000000       0.000000   \n",
       "25%         0.000000       0.000000       0.000000       0.000000   \n",
       "50%         0.000000       0.000000       0.000000       0.000000   \n",
       "75%         0.000000       0.000000       0.000000       0.000000   \n",
       "max         1.000000       1.000000       1.000000       4.000000   \n",
       "\n",
       "        sms_received     Attendance  \n",
       "count  110527.000000  110527.000000  \n",
       "mean        0.321026       0.798067  \n",
       "std         0.466873       0.401444  \n",
       "min         0.000000       0.000000  \n",
       "25%         0.000000       1.000000  \n",
       "50%         0.000000       1.000000  \n",
       "75%         1.000000       1.000000  \n",
       "max         1.000000       1.000000  "
      ]
     },
     "execution_count": 16,
     "metadata": {},
     "output_type": "execute_result"
    }
   ],
   "source": [
    "df.describe()"
   ]
  },
  {
   "cell_type": "markdown",
   "metadata": {},
   "source": [
    "The describe() shows some ages in negative in 'age' column so we need cleaning this aspect:"
   ]
  },
  {
   "cell_type": "code",
   "execution_count": 17,
   "metadata": {},
   "outputs": [],
   "source": [
    "df = df[df['age'] >=0] "
   ]
  },
  {
   "cell_type": "markdown",
   "metadata": {},
   "source": [
    "Ensuring that min age now is 0 (only few months old):"
   ]
  },
  {
   "cell_type": "code",
   "execution_count": 18,
   "metadata": {},
   "outputs": [
    {
     "data": {
      "text/html": [
       "<div>\n",
       "<style scoped>\n",
       "    .dataframe tbody tr th:only-of-type {\n",
       "        vertical-align: middle;\n",
       "    }\n",
       "\n",
       "    .dataframe tbody tr th {\n",
       "        vertical-align: top;\n",
       "    }\n",
       "\n",
       "    .dataframe thead th {\n",
       "        text-align: right;\n",
       "    }\n",
       "</style>\n",
       "<table border=\"1\" class=\"dataframe\">\n",
       "  <thead>\n",
       "    <tr style=\"text-align: right;\">\n",
       "      <th></th>\n",
       "      <th>patientid</th>\n",
       "      <th>appointmentid</th>\n",
       "      <th>age</th>\n",
       "      <th>scholarship</th>\n",
       "      <th>hipertension</th>\n",
       "      <th>diabetes</th>\n",
       "      <th>alcoholism</th>\n",
       "      <th>handcap</th>\n",
       "      <th>sms_received</th>\n",
       "      <th>Attendance</th>\n",
       "    </tr>\n",
       "  </thead>\n",
       "  <tbody>\n",
       "    <tr>\n",
       "      <th>count</th>\n",
       "      <td>1.105260e+05</td>\n",
       "      <td>1.105260e+05</td>\n",
       "      <td>110526.000000</td>\n",
       "      <td>110526.000000</td>\n",
       "      <td>110526.000000</td>\n",
       "      <td>110526.000000</td>\n",
       "      <td>110526.000000</td>\n",
       "      <td>110526.000000</td>\n",
       "      <td>110526.000000</td>\n",
       "      <td>110526.000000</td>\n",
       "    </tr>\n",
       "    <tr>\n",
       "      <th>mean</th>\n",
       "      <td>1.474934e+14</td>\n",
       "      <td>5.675304e+06</td>\n",
       "      <td>37.089219</td>\n",
       "      <td>0.098266</td>\n",
       "      <td>0.197248</td>\n",
       "      <td>0.071865</td>\n",
       "      <td>0.030400</td>\n",
       "      <td>0.022248</td>\n",
       "      <td>0.321029</td>\n",
       "      <td>0.798066</td>\n",
       "    </tr>\n",
       "    <tr>\n",
       "      <th>std</th>\n",
       "      <td>2.560943e+14</td>\n",
       "      <td>7.129544e+04</td>\n",
       "      <td>23.110026</td>\n",
       "      <td>0.297676</td>\n",
       "      <td>0.397923</td>\n",
       "      <td>0.258266</td>\n",
       "      <td>0.171686</td>\n",
       "      <td>0.161543</td>\n",
       "      <td>0.466874</td>\n",
       "      <td>0.401445</td>\n",
       "    </tr>\n",
       "    <tr>\n",
       "      <th>min</th>\n",
       "      <td>3.921784e+04</td>\n",
       "      <td>5.030230e+06</td>\n",
       "      <td>0.000000</td>\n",
       "      <td>0.000000</td>\n",
       "      <td>0.000000</td>\n",
       "      <td>0.000000</td>\n",
       "      <td>0.000000</td>\n",
       "      <td>0.000000</td>\n",
       "      <td>0.000000</td>\n",
       "      <td>0.000000</td>\n",
       "    </tr>\n",
       "    <tr>\n",
       "      <th>25%</th>\n",
       "      <td>4.172536e+12</td>\n",
       "      <td>5.640285e+06</td>\n",
       "      <td>18.000000</td>\n",
       "      <td>0.000000</td>\n",
       "      <td>0.000000</td>\n",
       "      <td>0.000000</td>\n",
       "      <td>0.000000</td>\n",
       "      <td>0.000000</td>\n",
       "      <td>0.000000</td>\n",
       "      <td>1.000000</td>\n",
       "    </tr>\n",
       "    <tr>\n",
       "      <th>50%</th>\n",
       "      <td>3.173184e+13</td>\n",
       "      <td>5.680572e+06</td>\n",
       "      <td>37.000000</td>\n",
       "      <td>0.000000</td>\n",
       "      <td>0.000000</td>\n",
       "      <td>0.000000</td>\n",
       "      <td>0.000000</td>\n",
       "      <td>0.000000</td>\n",
       "      <td>0.000000</td>\n",
       "      <td>1.000000</td>\n",
       "    </tr>\n",
       "    <tr>\n",
       "      <th>75%</th>\n",
       "      <td>9.438963e+13</td>\n",
       "      <td>5.725523e+06</td>\n",
       "      <td>55.000000</td>\n",
       "      <td>0.000000</td>\n",
       "      <td>0.000000</td>\n",
       "      <td>0.000000</td>\n",
       "      <td>0.000000</td>\n",
       "      <td>0.000000</td>\n",
       "      <td>1.000000</td>\n",
       "      <td>1.000000</td>\n",
       "    </tr>\n",
       "    <tr>\n",
       "      <th>max</th>\n",
       "      <td>9.999816e+14</td>\n",
       "      <td>5.790484e+06</td>\n",
       "      <td>115.000000</td>\n",
       "      <td>1.000000</td>\n",
       "      <td>1.000000</td>\n",
       "      <td>1.000000</td>\n",
       "      <td>1.000000</td>\n",
       "      <td>4.000000</td>\n",
       "      <td>1.000000</td>\n",
       "      <td>1.000000</td>\n",
       "    </tr>\n",
       "  </tbody>\n",
       "</table>\n",
       "</div>"
      ],
      "text/plain": [
       "          patientid  appointmentid            age    scholarship  \\\n",
       "count  1.105260e+05   1.105260e+05  110526.000000  110526.000000   \n",
       "mean   1.474934e+14   5.675304e+06      37.089219       0.098266   \n",
       "std    2.560943e+14   7.129544e+04      23.110026       0.297676   \n",
       "min    3.921784e+04   5.030230e+06       0.000000       0.000000   \n",
       "25%    4.172536e+12   5.640285e+06      18.000000       0.000000   \n",
       "50%    3.173184e+13   5.680572e+06      37.000000       0.000000   \n",
       "75%    9.438963e+13   5.725523e+06      55.000000       0.000000   \n",
       "max    9.999816e+14   5.790484e+06     115.000000       1.000000   \n",
       "\n",
       "        hipertension       diabetes     alcoholism        handcap  \\\n",
       "count  110526.000000  110526.000000  110526.000000  110526.000000   \n",
       "mean        0.197248       0.071865       0.030400       0.022248   \n",
       "std         0.397923       0.258266       0.171686       0.161543   \n",
       "min         0.000000       0.000000       0.000000       0.000000   \n",
       "25%         0.000000       0.000000       0.000000       0.000000   \n",
       "50%         0.000000       0.000000       0.000000       0.000000   \n",
       "75%         0.000000       0.000000       0.000000       0.000000   \n",
       "max         1.000000       1.000000       1.000000       4.000000   \n",
       "\n",
       "        sms_received     Attendance  \n",
       "count  110526.000000  110526.000000  \n",
       "mean        0.321029       0.798066  \n",
       "std         0.466874       0.401445  \n",
       "min         0.000000       0.000000  \n",
       "25%         0.000000       1.000000  \n",
       "50%         0.000000       1.000000  \n",
       "75%         1.000000       1.000000  \n",
       "max         1.000000       1.000000  "
      ]
     },
     "execution_count": 18,
     "metadata": {},
     "output_type": "execute_result"
    }
   ],
   "source": [
    "df.describe()   "
   ]
  },
  {
   "cell_type": "markdown",
   "metadata": {},
   "source": [
    "It's Done!"
   ]
  },
  {
   "cell_type": "markdown",
   "metadata": {},
   "source": [
    "Ensuring all binary columns have only 2 entries:"
   ]
  },
  {
   "cell_type": "code",
   "execution_count": 19,
   "metadata": {},
   "outputs": [
    {
     "data": {
      "text/plain": [
       "patientid          62298\n",
       "appointmentid     110526\n",
       "gender                 2\n",
       "scheduledday      103548\n",
       "appointmentday        27\n",
       "age                  103\n",
       "neighbourhood         81\n",
       "scholarship            2\n",
       "hipertension           2\n",
       "diabetes               2\n",
       "alcoholism             2\n",
       "handcap                5\n",
       "sms_received           2\n",
       "Attendance             2\n",
       "dtype: int64"
      ]
     },
     "execution_count": 19,
     "metadata": {},
     "output_type": "execute_result"
    }
   ],
   "source": [
    "df.nunique() "
   ]
  },
  {
   "cell_type": "markdown",
   "metadata": {},
   "source": [
    "Exloring the entries of 'handcap' column that is odd, having 5 entries:"
   ]
  },
  {
   "cell_type": "code",
   "execution_count": 20,
   "metadata": {},
   "outputs": [
    {
     "data": {
      "text/plain": [
       "0    108285\n",
       "1      2042\n",
       "2       183\n",
       "3        13\n",
       "4         3\n",
       "Name: handcap, dtype: int64"
      ]
     },
     "execution_count": 20,
     "metadata": {},
     "output_type": "execute_result"
    }
   ],
   "source": [
    "df['handcap'].value_counts() #knowing the scales of handcap column"
   ]
  },
  {
   "cell_type": "markdown",
   "metadata": {},
   "source": [
    "Casting all dates to datetime to ease analysis:"
   ]
  },
  {
   "cell_type": "code",
   "execution_count": 21,
   "metadata": {},
   "outputs": [],
   "source": [
    "df.scheduledday = pd.to_datetime(df['scheduledday'])\n",
    "df.appointmentday = pd.to_datetime(df['appointmentday'])                    "
   ]
  },
  {
   "cell_type": "markdown",
   "metadata": {},
   "source": [
    "Ensuring datetime is new datatype of both:"
   ]
  },
  {
   "cell_type": "code",
   "execution_count": 22,
   "metadata": {},
   "outputs": [
    {
     "name": "stdout",
     "output_type": "stream",
     "text": [
      "<class 'pandas.core.frame.DataFrame'>\n",
      "Int64Index: 110526 entries, 0 to 110526\n",
      "Data columns (total 14 columns):\n",
      "patientid         110526 non-null float64\n",
      "appointmentid     110526 non-null int64\n",
      "gender            110526 non-null object\n",
      "scheduledday      110526 non-null datetime64[ns, UTC]\n",
      "appointmentday    110526 non-null datetime64[ns, UTC]\n",
      "age               110526 non-null int64\n",
      "neighbourhood     110526 non-null object\n",
      "scholarship       110526 non-null int64\n",
      "hipertension      110526 non-null int64\n",
      "diabetes          110526 non-null int64\n",
      "alcoholism        110526 non-null int64\n",
      "handcap           110526 non-null int64\n",
      "sms_received      110526 non-null int64\n",
      "Attendance        110526 non-null int64\n",
      "dtypes: datetime64[ns, UTC](2), float64(1), int64(9), object(2)\n",
      "memory usage: 12.6+ MB\n"
     ]
    }
   ],
   "source": [
    "df.info() "
   ]
  },
  {
   "cell_type": "markdown",
   "metadata": {},
   "source": [
    "In order to study the age effect on attendance, we need to divide each patients' 'age' to belong to one of the 'age_bins':"
   ]
  },
  {
   "cell_type": "code",
   "execution_count": 23,
   "metadata": {},
   "outputs": [],
   "source": [
    "\n",
    "age_bin= []\n",
    "for value in df['age']:\n",
    "    if 0 <= value <= 25:\n",
    "        age_bin.append(\"0-25\")\n",
    "    elif 25 < value <= 50:\n",
    "        age_bin.append(\"25-50\")\n",
    "    elif 50 < value <= 75:\n",
    "        age_bin.append(\"50-75\")   \n",
    "    elif 75 < value <= 100:\n",
    "        age_bin.append(\"75-100\")\n",
    "    elif 100 < value <= 125:\n",
    "        age_bin.append(\"100-125\")\n",
    "       \n",
    "df['age_bin'] = age_bin"
   ]
  },
  {
   "cell_type": "markdown",
   "metadata": {},
   "source": [
    "Here is the first row of our clean, easy-accessed dataset !"
   ]
  },
  {
   "cell_type": "code",
   "execution_count": 24,
   "metadata": {},
   "outputs": [
    {
     "data": {
      "text/html": [
       "<div>\n",
       "<style scoped>\n",
       "    .dataframe tbody tr th:only-of-type {\n",
       "        vertical-align: middle;\n",
       "    }\n",
       "\n",
       "    .dataframe tbody tr th {\n",
       "        vertical-align: top;\n",
       "    }\n",
       "\n",
       "    .dataframe thead th {\n",
       "        text-align: right;\n",
       "    }\n",
       "</style>\n",
       "<table border=\"1\" class=\"dataframe\">\n",
       "  <thead>\n",
       "    <tr style=\"text-align: right;\">\n",
       "      <th></th>\n",
       "      <th>patientid</th>\n",
       "      <th>appointmentid</th>\n",
       "      <th>gender</th>\n",
       "      <th>scheduledday</th>\n",
       "      <th>appointmentday</th>\n",
       "      <th>age</th>\n",
       "      <th>neighbourhood</th>\n",
       "      <th>scholarship</th>\n",
       "      <th>hipertension</th>\n",
       "      <th>diabetes</th>\n",
       "      <th>alcoholism</th>\n",
       "      <th>handcap</th>\n",
       "      <th>sms_received</th>\n",
       "      <th>Attendance</th>\n",
       "      <th>age_bin</th>\n",
       "    </tr>\n",
       "  </thead>\n",
       "  <tbody>\n",
       "    <tr>\n",
       "      <th>0</th>\n",
       "      <td>2.987250e+13</td>\n",
       "      <td>5642903</td>\n",
       "      <td>F</td>\n",
       "      <td>2016-04-29 18:38:08+00:00</td>\n",
       "      <td>2016-04-29 00:00:00+00:00</td>\n",
       "      <td>62</td>\n",
       "      <td>JARDIM DA PENHA</td>\n",
       "      <td>0</td>\n",
       "      <td>1</td>\n",
       "      <td>0</td>\n",
       "      <td>0</td>\n",
       "      <td>0</td>\n",
       "      <td>0</td>\n",
       "      <td>1</td>\n",
       "      <td>50-75</td>\n",
       "    </tr>\n",
       "  </tbody>\n",
       "</table>\n",
       "</div>"
      ],
      "text/plain": [
       "      patientid  appointmentid gender              scheduledday  \\\n",
       "0  2.987250e+13        5642903      F 2016-04-29 18:38:08+00:00   \n",
       "\n",
       "             appointmentday  age    neighbourhood  scholarship  hipertension  \\\n",
       "0 2016-04-29 00:00:00+00:00   62  JARDIM DA PENHA            0             1   \n",
       "\n",
       "   diabetes  alcoholism  handcap  sms_received  Attendance age_bin  \n",
       "0         0           0        0             0           1   50-75  "
      ]
     },
     "execution_count": 24,
     "metadata": {},
     "output_type": "execute_result"
    }
   ],
   "source": [
    "df.head(1)"
   ]
  },
  {
   "cell_type": "markdown",
   "metadata": {},
   "source": [
    "<a id='eda'></a>\n",
    "# Exploratory Data Analysis\n",
    "\n",
    "> Now that we've trimmed and cleaned our data, we're ready to move on to exploration. Here we compute statistics and create visualizations with the goal of addressing the research questions that we posed in the Introduction section. We will compute the relevant statistics throughout the analysis when an inference is made about the data. All this is done through function calls to the two primary functions that we constructed earlier, they are the cornerstone of the project..\n",
    "\n",
    "\n",
    "\n",
    "> We will explore all variables from both angles tackled in functions, also bar plots and histograms are obtained to visualize data, let's first take a quick insight about the data!\n",
    "\n",
    "\n"
   ]
  },
  {
   "cell_type": "markdown",
   "metadata": {},
   "source": [
    "## Overview of distribution of attendance among the dataset; Show vs No_Show"
   ]
  },
  {
   "cell_type": "code",
   "execution_count": 25,
   "metadata": {},
   "outputs": [
    {
     "data": {
      "text/plain": [
       "1    88207\n",
       "0    22319\n",
       "Name: Attendance, dtype: int64"
      ]
     },
     "execution_count": 25,
     "metadata": {},
     "output_type": "execute_result"
    }
   ],
   "source": [
    "df['Attendance'].value_counts()"
   ]
  },
  {
   "cell_type": "code",
   "execution_count": 26,
   "metadata": {},
   "outputs": [
    {
     "data": {
      "image/png": "[encoded data removed]",
      "text/plain": [
       "<matplotlib.figure.Figure at 0x7f2e97f9aa50>"
      ]
     },
     "metadata": {
      "needs_background": "light"
     },
     "output_type": "display_data"
    }
   ],
   "source": [
    "    plt.bar(['Show','No_Show'], df['Attendance'].value_counts(), color ='black')\n",
    "    plt.title(\"Attendance Distribution\")\n",
    "    plt.ylabel(\"Counts\");"
   ]
  },
  {
   "cell_type": "markdown",
   "metadata": {},
   "source": [
    "### It is worth to emphasize here clearly, that in this research we deal with \"Attendance\" as our boolean variable, so: \n",
    "### Attendance = 1 = Show => Attended the appointment\n",
    "### Attendance = 0 = No Show => Missed the appointment\n",
    "\n",
    "Therefore, in all the following calculations for mean or median or any study on the \"Attendance\" column, the higher the value the nearer it is to Attending the appointment, and the lower is the closer to No_Show.."
   ]
  },
  {
   "cell_type": "markdown",
   "metadata": {},
   "source": [
    "Quick overview of the whole cleaned dataset through histograms:"
   ]
  },
  {
   "cell_type": "code",
   "execution_count": 27,
   "metadata": {},
   "outputs": [
    {
     "data": {
      "image/png": "[encoded data removed]",
      "text/plain": [
       "<matplotlib.figure.Figure at 0x7f2e95090c50>"
      ]
     },
     "metadata": {
      "needs_background": "light"
     },
     "output_type": "display_data"
    }
   ],
   "source": [
    "df.hist(figsize = (11, 11));"
   ]
  },
  {
   "cell_type": "markdown",
   "metadata": {},
   "source": [
    "### Can we make a query of no_show?"
   ]
  },
  {
   "cell_type": "code",
   "execution_count": 28,
   "metadata": {},
   "outputs": [],
   "source": [
    "# Use this, and more code cells, to explore your data. Don't forget to add\n",
    "#   Markdown cells to document your observations and findings.\n",
    "df_show = df.query('Attendance==1') #people who attended\n",
    "df_noshow = df.query('Attendance==0') #people of no show"
   ]
  },
  {
   "cell_type": "code",
   "execution_count": 29,
   "metadata": {},
   "outputs": [
    {
     "data": {
      "text/html": [
       "<div>\n",
       "<style scoped>\n",
       "    .dataframe tbody tr th:only-of-type {\n",
       "        vertical-align: middle;\n",
       "    }\n",
       "\n",
       "    .dataframe tbody tr th {\n",
       "        vertical-align: top;\n",
       "    }\n",
       "\n",
       "    .dataframe thead th {\n",
       "        text-align: right;\n",
       "    }\n",
       "</style>\n",
       "<table border=\"1\" class=\"dataframe\">\n",
       "  <thead>\n",
       "    <tr style=\"text-align: right;\">\n",
       "      <th></th>\n",
       "      <th>patientid</th>\n",
       "      <th>appointmentid</th>\n",
       "      <th>gender</th>\n",
       "      <th>scheduledday</th>\n",
       "      <th>appointmentday</th>\n",
       "      <th>age</th>\n",
       "      <th>neighbourhood</th>\n",
       "      <th>scholarship</th>\n",
       "      <th>hipertension</th>\n",
       "      <th>diabetes</th>\n",
       "      <th>alcoholism</th>\n",
       "      <th>handcap</th>\n",
       "      <th>sms_received</th>\n",
       "      <th>Attendance</th>\n",
       "      <th>age_bin</th>\n",
       "    </tr>\n",
       "  </thead>\n",
       "  <tbody>\n",
       "    <tr>\n",
       "      <th>0</th>\n",
       "      <td>2.987250e+13</td>\n",
       "      <td>5642903</td>\n",
       "      <td>F</td>\n",
       "      <td>2016-04-29 18:38:08+00:00</td>\n",
       "      <td>2016-04-29 00:00:00+00:00</td>\n",
       "      <td>62</td>\n",
       "      <td>JARDIM DA PENHA</td>\n",
       "      <td>0</td>\n",
       "      <td>1</td>\n",
       "      <td>0</td>\n",
       "      <td>0</td>\n",
       "      <td>0</td>\n",
       "      <td>0</td>\n",
       "      <td>1</td>\n",
       "      <td>50-75</td>\n",
       "    </tr>\n",
       "  </tbody>\n",
       "</table>\n",
       "</div>"
      ],
      "text/plain": [
       "      patientid  appointmentid gender              scheduledday  \\\n",
       "0  2.987250e+13        5642903      F 2016-04-29 18:38:08+00:00   \n",
       "\n",
       "             appointmentday  age    neighbourhood  scholarship  hipertension  \\\n",
       "0 2016-04-29 00:00:00+00:00   62  JARDIM DA PENHA            0             1   \n",
       "\n",
       "   diabetes  alcoholism  handcap  sms_received  Attendance age_bin  \n",
       "0         0           0        0             0           1   50-75  "
      ]
     },
     "execution_count": 29,
     "metadata": {},
     "output_type": "execute_result"
    }
   ],
   "source": [
    "df_show.head(1)"
   ]
  },
  {
   "cell_type": "code",
   "execution_count": 30,
   "metadata": {},
   "outputs": [
    {
     "data": {
      "text/html": [
       "<div>\n",
       "<style scoped>\n",
       "    .dataframe tbody tr th:only-of-type {\n",
       "        vertical-align: middle;\n",
       "    }\n",
       "\n",
       "    .dataframe tbody tr th {\n",
       "        vertical-align: top;\n",
       "    }\n",
       "\n",
       "    .dataframe thead th {\n",
       "        text-align: right;\n",
       "    }\n",
       "</style>\n",
       "<table border=\"1\" class=\"dataframe\">\n",
       "  <thead>\n",
       "    <tr style=\"text-align: right;\">\n",
       "      <th></th>\n",
       "      <th>patientid</th>\n",
       "      <th>appointmentid</th>\n",
       "      <th>gender</th>\n",
       "      <th>scheduledday</th>\n",
       "      <th>appointmentday</th>\n",
       "      <th>age</th>\n",
       "      <th>neighbourhood</th>\n",
       "      <th>scholarship</th>\n",
       "      <th>hipertension</th>\n",
       "      <th>diabetes</th>\n",
       "      <th>alcoholism</th>\n",
       "      <th>handcap</th>\n",
       "      <th>sms_received</th>\n",
       "      <th>Attendance</th>\n",
       "      <th>age_bin</th>\n",
       "    </tr>\n",
       "  </thead>\n",
       "  <tbody>\n",
       "    <tr>\n",
       "      <th>6</th>\n",
       "      <td>7.336882e+14</td>\n",
       "      <td>5630279</td>\n",
       "      <td>F</td>\n",
       "      <td>2016-04-27 15:05:12+00:00</td>\n",
       "      <td>2016-04-29 00:00:00+00:00</td>\n",
       "      <td>23</td>\n",
       "      <td>GOIABEIRAS</td>\n",
       "      <td>0</td>\n",
       "      <td>0</td>\n",
       "      <td>0</td>\n",
       "      <td>0</td>\n",
       "      <td>0</td>\n",
       "      <td>0</td>\n",
       "      <td>0</td>\n",
       "      <td>0-25</td>\n",
       "    </tr>\n",
       "  </tbody>\n",
       "</table>\n",
       "</div>"
      ],
      "text/plain": [
       "      patientid  appointmentid gender              scheduledday  \\\n",
       "6  7.336882e+14        5630279      F 2016-04-27 15:05:12+00:00   \n",
       "\n",
       "             appointmentday  age neighbourhood  scholarship  hipertension  \\\n",
       "6 2016-04-29 00:00:00+00:00   23    GOIABEIRAS            0             0   \n",
       "\n",
       "   diabetes  alcoholism  handcap  sms_received  Attendance age_bin  \n",
       "6         0           0        0             0           0    0-25  "
      ]
     },
     "execution_count": 30,
     "metadata": {},
     "output_type": "execute_result"
    }
   ],
   "source": [
    "df_noshow.head(1)"
   ]
  },
  {
   "cell_type": "markdown",
   "metadata": {},
   "source": [
    "# The Process:"
   ]
  },
  {
   "cell_type": "markdown",
   "metadata": {},
   "source": [
    "For each column of data, it will be studied from both angles, by calling both functions, so the systematic process will be calling the first then the second function on each column then visualize findings and conclude in comments..\n",
    "\n",
    "Some columns have special nature so a customized way of EDA was followed when dealing with them..\n",
    "Let's move through the columns as follows.."
   ]
  },
  {
   "cell_type": "markdown",
   "metadata": {},
   "source": [
    "# Gender:"
   ]
  },
  {
   "cell_type": "markdown",
   "metadata": {},
   "source": [
    "## First Procedure:"
   ]
  },
  {
   "cell_type": "code",
   "execution_count": 31,
   "metadata": {},
   "outputs": [
    {
     "name": "stdout",
     "output_type": "stream",
     "text": [
      "The distribution of gender of people with no show is as follows: \n",
      "\n",
      "F    14594\n",
      "M     7725\n",
      "Name: gender, dtype: int64\n",
      "And here is the visualization of these results : \n",
      "\n"
     ]
    },
    {
     "data": {
      "image/png": "[encoded data removed]",
      "text/plain": [
       "<matplotlib.figure.Figure at 0x7f2e94489d10>"
      ]
     },
     "metadata": {
      "needs_background": "light"
     },
     "output_type": "display_data"
    }
   ],
   "source": [
    "x_labels = ['Female', 'Male'] \n",
    "title = \"Relationship between Gender and Attendance\"\n",
    "first_procedure(df,'gender',x_labels,title) "
   ]
  },
  {
   "cell_type": "markdown",
   "metadata": {},
   "source": [
    "## Second Procedure:"
   ]
  },
  {
   "cell_type": "code",
   "execution_count": 32,
   "metadata": {},
   "outputs": [
    {
     "name": "stdout",
     "output_type": "stream",
     "text": [
      "The mean attendace per all categories of gender is as follows: \n",
      "\n",
      "gender\n",
      "F    0.796851\n",
      "M    0.800321\n",
      "Name: Attendance, dtype: float64\n",
      "\n",
      " \n",
      " Here is the visualization of these results : \n",
      "\n"
     ]
    },
    {
     "data": {
      "image/png": "[encoded data removed]",
      "text/plain": [
       "<matplotlib.figure.Figure at 0x7f2e94128290>"
      ]
     },
     "metadata": {
      "needs_background": "light"
     },
     "output_type": "display_data"
    }
   ],
   "source": [
    "x_labels = ['Female', 'Male'] \n",
    "title = \"Relationship between Gender and Attendance\"\n",
    "second_procedure(df,'gender',x_labels,title) "
   ]
  },
  {
   "cell_type": "markdown",
   "metadata": {},
   "source": [
    "Although women who had no shows were more than men who did so, but on average, both genders skip appointments nearly equally, Equality at its Finest !! \n",
    "\n",
    "A limitation here is the huge difference in number of samples that are females than that of men as shown below:"
   ]
  },
  {
   "cell_type": "code",
   "execution_count": 33,
   "metadata": {},
   "outputs": [
    {
     "data": {
      "image/png": "[encoded data removed]",
      "text/plain": [
       "<matplotlib.figure.Figure at 0x7f2e94110790>"
      ]
     },
     "metadata": {
      "needs_background": "light"
     },
     "output_type": "display_data"
    }
   ],
   "source": [
    "df['gender'].hist();"
   ]
  },
  {
   "cell_type": "markdown",
   "metadata": {},
   "source": [
    "# Age Groups:"
   ]
  },
  {
   "cell_type": "markdown",
   "metadata": {},
   "source": [
    "## First Procedure:"
   ]
  },
  {
   "cell_type": "code",
   "execution_count": 34,
   "metadata": {},
   "outputs": [
    {
     "name": "stdout",
     "output_type": "stream",
     "text": [
      "The distribution of age_bin of people with no show is as follows: \n",
      "\n",
      "0-25       8818\n",
      "25-50      7774\n",
      "50-75      4857\n",
      "75-100      867\n",
      "100-125       3\n",
      "Name: age_bin, dtype: int64\n",
      "And here is the visualization of these results : \n",
      "\n"
     ]
    },
    {
     "data": {
      "image/png": "[encoded data removed]",
      "text/plain": [
       "<matplotlib.figure.Figure at 0x7f2e94119a50>"
      ]
     },
     "metadata": {
      "needs_background": "light"
     },
     "output_type": "display_data"
    }
   ],
   "source": [
    "x_labels = ['0-25', '25-50', '50-75', '75-100', '100-125']\n",
    "title = \"Relationship between Age and Attendance\"\n",
    "first_procedure(df,'age_bin' , x_labels, title)"
   ]
  },
  {
   "cell_type": "markdown",
   "metadata": {},
   "source": [
    "## Second Procedure:"
   ]
  },
  {
   "cell_type": "code",
   "execution_count": 35,
   "metadata": {},
   "outputs": [
    {
     "name": "stdout",
     "output_type": "stream",
     "text": [
      "The mean attendace per all categories of age_bin is as follows: \n",
      "\n",
      "age_bin\n",
      "0-25       0.771548\n",
      "100-125    0.571429\n",
      "25-50      0.787037\n",
      "50-75      0.838267\n",
      "75-100     0.838997\n",
      "Name: Attendance, dtype: float64\n",
      "\n",
      " \n",
      " Here is the visualization of these results : \n",
      "\n"
     ]
    },
    {
     "data": {
      "image/png": "[encoded data removed]",
      "text/plain": [
       "<matplotlib.figure.Figure at 0x7f2e71e9d150>"
      ]
     },
     "metadata": {
      "needs_background": "light"
     },
     "output_type": "display_data"
    }
   ],
   "source": [
    "x_labels = ['0-25', '100-125','25-50', '50-75', '75-100']\n",
    "title = \"Relationship between Age and Attendance\"\n",
    "second_procedure(df,'age_bin' , x_labels, title)"
   ]
  },
  {
   "cell_type": "markdown",
   "metadata": {},
   "source": [
    "People in the age bin are the ones with least attendance rate, they've got a right !!\n",
    "However, people in the age bin 0-25 are the next in not showing up, this needs explanation !!"
   ]
  },
  {
   "cell_type": "markdown",
   "metadata": {},
   "source": [
    "# Day of reservation:"
   ]
  },
  {
   "cell_type": "markdown",
   "metadata": {},
   "source": [
    "Here we will follow a bit different procedure, to know if scheduling the appointment at the day of the appointment affects the attendance:"
   ]
  },
  {
   "cell_type": "code",
   "execution_count": 36,
   "metadata": {},
   "outputs": [],
   "source": [
    "#Leave to end\n",
    "df.scheduledday = pd.to_datetime(df['scheduledday']).dt.date\n",
    "df.appointmentday = pd.to_datetime(df['appointmentday']).dt.date\n",
    "\n",
    "df_same_day = df.query('scheduledday == appointmentday')\n",
    "df_prior_day = df.query('scheduledday != appointmentday')"
   ]
  },
  {
   "cell_type": "code",
   "execution_count": 37,
   "metadata": {},
   "outputs": [
    {
     "data": {
      "text/html": [
       "<div>\n",
       "<style scoped>\n",
       "    .dataframe tbody tr th:only-of-type {\n",
       "        vertical-align: middle;\n",
       "    }\n",
       "\n",
       "    .dataframe tbody tr th {\n",
       "        vertical-align: top;\n",
       "    }\n",
       "\n",
       "    .dataframe thead th {\n",
       "        text-align: right;\n",
       "    }\n",
       "</style>\n",
       "<table border=\"1\" class=\"dataframe\">\n",
       "  <thead>\n",
       "    <tr style=\"text-align: right;\">\n",
       "      <th></th>\n",
       "      <th>patientid</th>\n",
       "      <th>appointmentid</th>\n",
       "      <th>gender</th>\n",
       "      <th>scheduledday</th>\n",
       "      <th>appointmentday</th>\n",
       "      <th>age</th>\n",
       "      <th>neighbourhood</th>\n",
       "      <th>scholarship</th>\n",
       "      <th>hipertension</th>\n",
       "      <th>diabetes</th>\n",
       "      <th>alcoholism</th>\n",
       "      <th>handcap</th>\n",
       "      <th>sms_received</th>\n",
       "      <th>Attendance</th>\n",
       "      <th>age_bin</th>\n",
       "    </tr>\n",
       "  </thead>\n",
       "  <tbody>\n",
       "    <tr>\n",
       "      <th>0</th>\n",
       "      <td>2.987250e+13</td>\n",
       "      <td>5642903</td>\n",
       "      <td>F</td>\n",
       "      <td>2016-04-29</td>\n",
       "      <td>2016-04-29</td>\n",
       "      <td>62</td>\n",
       "      <td>JARDIM DA PENHA</td>\n",
       "      <td>0</td>\n",
       "      <td>1</td>\n",
       "      <td>0</td>\n",
       "      <td>0</td>\n",
       "      <td>0</td>\n",
       "      <td>0</td>\n",
       "      <td>1</td>\n",
       "      <td>50-75</td>\n",
       "    </tr>\n",
       "  </tbody>\n",
       "</table>\n",
       "</div>"
      ],
      "text/plain": [
       "      patientid  appointmentid gender scheduledday appointmentday  age  \\\n",
       "0  2.987250e+13        5642903      F   2016-04-29     2016-04-29   62   \n",
       "\n",
       "     neighbourhood  scholarship  hipertension  diabetes  alcoholism  handcap  \\\n",
       "0  JARDIM DA PENHA            0             1         0           0        0   \n",
       "\n",
       "   sms_received  Attendance age_bin  \n",
       "0             0           1   50-75  "
      ]
     },
     "execution_count": 37,
     "metadata": {},
     "output_type": "execute_result"
    }
   ],
   "source": [
    "df_same_day.head(1)"
   ]
  },
  {
   "cell_type": "code",
   "execution_count": 38,
   "metadata": {},
   "outputs": [
    {
     "data": {
      "text/html": [
       "<div>\n",
       "<style scoped>\n",
       "    .dataframe tbody tr th:only-of-type {\n",
       "        vertical-align: middle;\n",
       "    }\n",
       "\n",
       "    .dataframe tbody tr th {\n",
       "        vertical-align: top;\n",
       "    }\n",
       "\n",
       "    .dataframe thead th {\n",
       "        text-align: right;\n",
       "    }\n",
       "</style>\n",
       "<table border=\"1\" class=\"dataframe\">\n",
       "  <thead>\n",
       "    <tr style=\"text-align: right;\">\n",
       "      <th></th>\n",
       "      <th>patientid</th>\n",
       "      <th>appointmentid</th>\n",
       "      <th>gender</th>\n",
       "      <th>scheduledday</th>\n",
       "      <th>appointmentday</th>\n",
       "      <th>age</th>\n",
       "      <th>neighbourhood</th>\n",
       "      <th>scholarship</th>\n",
       "      <th>hipertension</th>\n",
       "      <th>diabetes</th>\n",
       "      <th>alcoholism</th>\n",
       "      <th>handcap</th>\n",
       "      <th>sms_received</th>\n",
       "      <th>Attendance</th>\n",
       "      <th>age_bin</th>\n",
       "    </tr>\n",
       "  </thead>\n",
       "  <tbody>\n",
       "    <tr>\n",
       "      <th>5</th>\n",
       "      <td>9.598513e+13</td>\n",
       "      <td>5626772</td>\n",
       "      <td>F</td>\n",
       "      <td>2016-04-27</td>\n",
       "      <td>2016-04-29</td>\n",
       "      <td>76</td>\n",
       "      <td>REPÚBLICA</td>\n",
       "      <td>0</td>\n",
       "      <td>1</td>\n",
       "      <td>0</td>\n",
       "      <td>0</td>\n",
       "      <td>0</td>\n",
       "      <td>0</td>\n",
       "      <td>1</td>\n",
       "      <td>75-100</td>\n",
       "    </tr>\n",
       "  </tbody>\n",
       "</table>\n",
       "</div>"
      ],
      "text/plain": [
       "      patientid  appointmentid gender scheduledday appointmentday  age  \\\n",
       "5  9.598513e+13        5626772      F   2016-04-27     2016-04-29   76   \n",
       "\n",
       "  neighbourhood  scholarship  hipertension  diabetes  alcoholism  handcap  \\\n",
       "5     REPÚBLICA            0             1         0           0        0   \n",
       "\n",
       "   sms_received  Attendance age_bin  \n",
       "5             0           1  75-100  "
      ]
     },
     "execution_count": 38,
     "metadata": {},
     "output_type": "execute_result"
    }
   ],
   "source": [
    "df_prior_day.head(1)"
   ]
  },
  {
   "cell_type": "code",
   "execution_count": 39,
   "metadata": {},
   "outputs": [],
   "source": [
    "x = df_same_day[\"Attendance\"].mean() "
   ]
  },
  {
   "cell_type": "code",
   "execution_count": 41,
   "metadata": {},
   "outputs": [],
   "source": [
    "y = df_prior_day[\"Attendance\"].mean()\n",
    "#Same day has higher attenddance by far"
   ]
  },
  {
   "cell_type": "code",
   "execution_count": 42,
   "metadata": {},
   "outputs": [
    {
     "name": "stdout",
     "output_type": "stream",
     "text": [
      "To visualize the previous findings, here is the mean attendance for people who scheduled appointment on the same day compared to those who scheduled it at prior day: \n",
      "\n"
     ]
    },
    {
     "data": {
      "image/png": "[encoded data removed]",
      "text/plain": [
       "<matplotlib.figure.Figure at 0x7f2e71e18050>"
      ]
     },
     "metadata": {
      "needs_background": "light"
     },
     "output_type": "display_data"
    }
   ],
   "source": [
    "print('To visualize the previous findings, here is the mean attendance for people who scheduled appointment on the same day compared to those who scheduled it at prior day: \\n')\n",
    "plt.bar(['Same Day','Prior_Day'],[x,y],color='black')\n",
    "plt.title(\"Relationship between the Day of booking and Attendance\")\n",
    "plt.xlabel('Booking Day')\n",
    "plt.ylabel('Mean Attendance');\n"
   ]
  },
  {
   "cell_type": "markdown",
   "metadata": {},
   "source": [
    "This shows that people who make an instaneous booking (same day) are more likely to show up to the appointment, Logicallll!!"
   ]
  },
  {
   "cell_type": "markdown",
   "metadata": {},
   "source": [
    "# Scholarship:"
   ]
  },
  {
   "cell_type": "markdown",
   "metadata": {},
   "source": [
    "## First Procedure:"
   ]
  },
  {
   "cell_type": "code",
   "execution_count": 43,
   "metadata": {},
   "outputs": [
    {
     "name": "stdout",
     "output_type": "stream",
     "text": [
      "The distribution of scholarship of people with no show is as follows: \n",
      "\n",
      "0    19741\n",
      "1     2578\n",
      "Name: scholarship, dtype: int64\n",
      "And here is the visualization of these results : \n",
      "\n"
     ]
    },
    {
     "data": {
      "image/png": "[encoded data removed]",
      "text/plain": [
       "<matplotlib.figure.Figure at 0x7f2e71e18210>"
      ]
     },
     "metadata": {
      "needs_background": "light"
     },
     "output_type": "display_data"
    }
   ],
   "source": [
    "x_labels = ['No Scholarship','Scholarship']\n",
    "title = \"Relationship between scholarship and attendance\"\n",
    "first_procedure(df,'scholarship' , x_labels, title)"
   ]
  },
  {
   "cell_type": "markdown",
   "metadata": {},
   "source": [
    "## Second Procedure:"
   ]
  },
  {
   "cell_type": "code",
   "execution_count": 44,
   "metadata": {},
   "outputs": [
    {
     "name": "stdout",
     "output_type": "stream",
     "text": [
      "The mean attendace per all categories of scholarship is as follows: \n",
      "\n",
      "scholarship\n",
      "0    0.801926\n",
      "1    0.762637\n",
      "Name: Attendance, dtype: float64\n",
      "\n",
      " \n",
      " Here is the visualization of these results : \n",
      "\n"
     ]
    },
    {
     "data": {
      "image/png": "[encoded data removed]",
      "text/plain": [
       "<matplotlib.figure.Figure at 0x7f2e94128a10>"
      ]
     },
     "metadata": {
      "needs_background": "light"
     },
     "output_type": "display_data"
    }
   ],
   "source": [
    "x_labels = ['No Scholarship','Scholarship']\n",
    "title = \"Relationship between scholarship and attendance\"\n",
    "second_procedure(df,'scholarship' , x_labels, title)"
   ]
  },
  {
   "cell_type": "markdown",
   "metadata": {},
   "source": [
    "It looks like some people do not value what they have got, people enrolled in scholarship are more likely to skip their appointments, SURPRISING !!!"
   ]
  },
  {
   "cell_type": "markdown",
   "metadata": {},
   "source": [
    "# Hipertension:"
   ]
  },
  {
   "cell_type": "markdown",
   "metadata": {},
   "source": [
    "## First Procedure:"
   ]
  },
  {
   "cell_type": "code",
   "execution_count": 45,
   "metadata": {},
   "outputs": [
    {
     "name": "stdout",
     "output_type": "stream",
     "text": [
      "The distribution of hipertension of people with no show is as follows: \n",
      "\n",
      "0    18547\n",
      "1     3772\n",
      "Name: hipertension, dtype: int64\n",
      "And here is the visualization of these results : \n",
      "\n"
     ]
    },
    {
     "data": {
      "image/png": "[encoded data removed]",
      "text/plain": [
       "<matplotlib.figure.Figure at 0x7f2e9459c6d0>"
      ]
     },
     "metadata": {
      "needs_background": "light"
     },
     "output_type": "display_data"
    }
   ],
   "source": [
    "x_labels = ['No Hipertension', 'Hipertension']\n",
    "title = \"Relationship between Hipertension and Attendance\"\n",
    "first_procedure(df,'hipertension' , x_labels, title)"
   ]
  },
  {
   "cell_type": "markdown",
   "metadata": {},
   "source": [
    "## Second Procedure:"
   ]
  },
  {
   "cell_type": "code",
   "execution_count": 46,
   "metadata": {},
   "outputs": [
    {
     "name": "stdout",
     "output_type": "stream",
     "text": [
      "The mean attendace per all categories of hipertension is as follows: \n",
      "\n",
      "hipertension\n",
      "0    0.790961\n",
      "1    0.826980\n",
      "Name: Attendance, dtype: float64\n",
      "\n",
      " \n",
      " Here is the visualization of these results : \n",
      "\n"
     ]
    },
    {
     "data": {
      "image/png": "[encoded data removed]",
      "text/plain": [
       "<matplotlib.figure.Figure at 0x7f2e71eeea10>"
      ]
     },
     "metadata": {
      "needs_background": "light"
     },
     "output_type": "display_data"
    }
   ],
   "source": [
    "x_labels = ['No Hipertension', 'Hipertension']\n",
    "title = \"Relationship between Hipertension and Attendance\"\n",
    "second_procedure(df,'hipertension' , x_labels, title)"
   ]
  },
  {
   "cell_type": "markdown",
   "metadata": {},
   "source": [
    "On mean, people with hipertension tend to attend their appointment more than people without it!"
   ]
  },
  {
   "cell_type": "markdown",
   "metadata": {},
   "source": [
    "# Alcoholism:"
   ]
  },
  {
   "cell_type": "markdown",
   "metadata": {},
   "source": [
    "## First Procedure:"
   ]
  },
  {
   "cell_type": "code",
   "execution_count": 47,
   "metadata": {},
   "outputs": [
    {
     "name": "stdout",
     "output_type": "stream",
     "text": [
      "The distribution of alcoholism of people with no show is as follows: \n",
      "\n",
      "0    21642\n",
      "1      677\n",
      "Name: alcoholism, dtype: int64\n",
      "And here is the visualization of these results : \n",
      "\n"
     ]
    },
    {
     "data": {
      "image/png": "[encoded data removed]",
      "text/plain": [
       "<matplotlib.figure.Figure at 0x7f2e9459ced0>"
      ]
     },
     "metadata": {
      "needs_background": "light"
     },
     "output_type": "display_data"
    }
   ],
   "source": [
    "x_labels = ['No Alcoholism', 'Alcoholism']\n",
    "title = \"Relationship between Alcoholism and Attendance\"\n",
    "first_procedure(df,'alcoholism' , x_labels, title)"
   ]
  },
  {
   "cell_type": "markdown",
   "metadata": {},
   "source": [
    "## Second Procedure:"
   ]
  },
  {
   "cell_type": "code",
   "execution_count": 48,
   "metadata": {},
   "outputs": [
    {
     "name": "stdout",
     "output_type": "stream",
     "text": [
      "The mean attendace per all categories of alcoholism is as follows: \n",
      "\n",
      "alcoholism\n",
      "0    0.798052\n",
      "1    0.798512\n",
      "Name: Attendance, dtype: float64\n",
      "\n",
      " \n",
      " Here is the visualization of these results : \n",
      "\n"
     ]
    },
    {
     "data": {
      "image/png": "[encoded data removed]",
      "text/plain": [
       "<matplotlib.figure.Figure at 0x7f2e94234050>"
      ]
     },
     "metadata": {
      "needs_background": "light"
     },
     "output_type": "display_data"
    }
   ],
   "source": [
    "x_labels = ['No Alcoholism', 'Alcoholism']\n",
    "title = \"Relationship between Alcoholism and Attendance\"\n",
    "second_procedure(df,'alcoholism' , x_labels, title)"
   ]
  },
  {
   "cell_type": "markdown",
   "metadata": {},
   "source": [
    "Although people with alcoholism are the minority among all no_showers, but on mean, people with alcoholism and without have nearly same attendance rate!"
   ]
  },
  {
   "cell_type": "markdown",
   "metadata": {},
   "source": [
    "# Diabetic ?"
   ]
  },
  {
   "cell_type": "markdown",
   "metadata": {},
   "source": [
    "## First Procedure:"
   ]
  },
  {
   "cell_type": "code",
   "execution_count": 49,
   "metadata": {},
   "outputs": [
    {
     "name": "stdout",
     "output_type": "stream",
     "text": [
      "The distribution of diabetes of people with no show is as follows: \n",
      "\n",
      "0    20889\n",
      "1     1430\n",
      "Name: diabetes, dtype: int64\n",
      "And here is the visualization of these results : \n",
      "\n"
     ]
    },
    {
     "data": {
      "image/png": "[encoded data removed]",
      "text/plain": [
       "<matplotlib.figure.Figure at 0x7f2e9415f190>"
      ]
     },
     "metadata": {
      "needs_background": "light"
     },
     "output_type": "display_data"
    }
   ],
   "source": [
    "x_labels = ['No Diabetes', 'Diabetes']\n",
    "title = \"Relationship between Diabetes and Attendance\"\n",
    "first_procedure(df,'diabetes' , x_labels, title)"
   ]
  },
  {
   "cell_type": "markdown",
   "metadata": {},
   "source": [
    "## Second Procedure:"
   ]
  },
  {
   "cell_type": "code",
   "execution_count": 50,
   "metadata": {},
   "outputs": [
    {
     "name": "stdout",
     "output_type": "stream",
     "text": [
      "The mean attendace per all categories of diabetes is as follows: \n",
      "\n",
      "diabetes\n",
      "0    0.796370\n",
      "1    0.819967\n",
      "Name: Attendance, dtype: float64\n",
      "\n",
      " \n",
      " Here is the visualization of these results : \n",
      "\n"
     ]
    },
    {
     "data": {
      "image/png": "[encoded data removed]",
      "text/plain": [
       "<matplotlib.figure.Figure at 0x7f2e9777ec10>"
      ]
     },
     "metadata": {
      "needs_background": "light"
     },
     "output_type": "display_data"
    }
   ],
   "source": [
    "x_labels = ['No Diabetes', 'Diabetes']\n",
    "title = \"Relationship between Diabetes and Attendance\"\n",
    "second_procedure(df,'diabetes' , x_labels, title)"
   ]
  },
  {
   "cell_type": "markdown",
   "metadata": {},
   "source": [
    "It is nearly equal, but diabetic people even surpass people with no diabetes in discipline in their appointments, Speedy Recovery!!"
   ]
  },
  {
   "cell_type": "markdown",
   "metadata": {},
   "source": [
    "# Handcap?"
   ]
  },
  {
   "cell_type": "markdown",
   "metadata": {},
   "source": [
    "## First Procedure:"
   ]
  },
  {
   "cell_type": "code",
   "execution_count": 51,
   "metadata": {},
   "outputs": [
    {
     "name": "stdout",
     "output_type": "stream",
     "text": [
      "The distribution of handcap of people with no show is as follows: \n",
      "\n",
      "0    21912\n",
      "1      366\n",
      "2       37\n",
      "3        3\n",
      "4        1\n",
      "Name: handcap, dtype: int64\n",
      "And here is the visualization of these results : \n",
      "\n"
     ]
    },
    {
     "data": {
      "image/png": "[encoded data removed]",
      "text/plain": [
       "<matplotlib.figure.Figure at 0x7f2e941f2090>"
      ]
     },
     "metadata": {
      "needs_background": "light"
     },
     "output_type": "display_data"
    }
   ],
   "source": [
    "x_labels = ['0', '1', '2', '3', '4']\n",
    "title = \"Relationship between handcap and Attendance\"\n",
    "first_procedure(df,'handcap' , x_labels, title)"
   ]
  },
  {
   "cell_type": "markdown",
   "metadata": {},
   "source": [
    "## Second Procedure: "
   ]
  },
  {
   "cell_type": "code",
   "execution_count": 52,
   "metadata": {},
   "outputs": [
    {
     "name": "stdout",
     "output_type": "stream",
     "text": [
      "The mean attendace per all categories of handcap is as follows: \n",
      "\n",
      "handcap\n",
      "0    0.797645\n",
      "1    0.820764\n",
      "2    0.797814\n",
      "3    0.769231\n",
      "4    0.666667\n",
      "Name: Attendance, dtype: float64\n",
      "\n",
      " \n",
      " Here is the visualization of these results : \n",
      "\n"
     ]
    },
    {
     "data": {
      "image/png": "[encoded data removed]",
      "text/plain": [
       "<matplotlib.figure.Figure at 0x7f2e94344890>"
      ]
     },
     "metadata": {
      "needs_background": "light"
     },
     "output_type": "display_data"
    }
   ],
   "source": [
    "x_labels = ['0', '1', '2', '3', '4']\n",
    "title = \"Relationship between handcap and attendnace\"\n",
    "second_procedure(df,'handcap' , x_labels, title)"
   ]
  },
  {
   "cell_type": "markdown",
   "metadata": {},
   "source": [
    "On average, people with handcap of degree 4 were the most probable not to show, understandable with regard to the nature of their medical issue, and definetely needs more care!"
   ]
  },
  {
   "cell_type": "markdown",
   "metadata": {},
   "source": [
    "# Sms_received ?"
   ]
  },
  {
   "cell_type": "markdown",
   "metadata": {},
   "source": [
    "## First Procedure:"
   ]
  },
  {
   "cell_type": "code",
   "execution_count": 53,
   "metadata": {},
   "outputs": [
    {
     "name": "stdout",
     "output_type": "stream",
     "text": [
      "The distribution of sms_received of people with no show is as follows: \n",
      "\n",
      "0    12535\n",
      "1     9784\n",
      "Name: sms_received, dtype: int64\n",
      "And here is the visualization of these results : \n",
      "\n"
     ]
    },
    {
     "data": {
      "image/png": "[encoded data removed]",
      "text/plain": [
       "<matplotlib.figure.Figure at 0x7f2e94309810>"
      ]
     },
     "metadata": {
      "needs_background": "light"
     },
     "output_type": "display_data"
    }
   ],
   "source": [
    "x_labels = ['no_sms_received','sms_received']\n",
    "title = \"Relationship between receiving Cancellation SMS and Attendance\"\n",
    "first_procedure(df,'sms_received' , x_labels, title)"
   ]
  },
  {
   "cell_type": "markdown",
   "metadata": {},
   "source": [
    "## Second Procedure: "
   ]
  },
  {
   "cell_type": "code",
   "execution_count": 54,
   "metadata": {},
   "outputs": [
    {
     "name": "stdout",
     "output_type": "stream",
     "text": [
      "The mean attendace per all categories of sms_received is as follows: \n",
      "\n",
      "sms_received\n",
      "0    0.832965\n",
      "1    0.724255\n",
      "Name: Attendance, dtype: float64\n",
      "\n",
      " \n",
      " Here is the visualization of these results : \n",
      "\n"
     ]
    },
    {
     "data": {
      "image/png": "[encoded data removed]",
      "text/plain": [
       "<matplotlib.figure.Figure at 0x7f2e943090d0>"
      ]
     },
     "metadata": {
      "needs_background": "light"
     },
     "output_type": "display_data"
    }
   ],
   "source": [
    "x_labels = ['no_sms_received','sms_received']\n",
    "title = \"Relationship between receiving Cancellation SMS and Attendance\"\n",
    "second_procedure(df,'sms_received' , x_labels, title)"
   ]
  },
  {
   "cell_type": "markdown",
   "metadata": {},
   "source": [
    "When a SMS was received it was more likely that patients do not show up, so this process needs more study.."
   ]
  },
  {
   "cell_type": "markdown",
   "metadata": {},
   "source": [
    "# Neighbourhood:"
   ]
  },
  {
   "cell_type": "code",
   "execution_count": 55,
   "metadata": {},
   "outputs": [
    {
     "data": {
      "text/html": [
       "<div>\n",
       "<style scoped>\n",
       "    .dataframe tbody tr th:only-of-type {\n",
       "        vertical-align: middle;\n",
       "    }\n",
       "\n",
       "    .dataframe tbody tr th {\n",
       "        vertical-align: top;\n",
       "    }\n",
       "\n",
       "    .dataframe thead th {\n",
       "        text-align: right;\n",
       "    }\n",
       "</style>\n",
       "<table border=\"1\" class=\"dataframe\">\n",
       "  <thead>\n",
       "    <tr style=\"text-align: right;\">\n",
       "      <th></th>\n",
       "      <th>patientid</th>\n",
       "      <th>appointmentid</th>\n",
       "      <th>gender</th>\n",
       "      <th>scheduledday</th>\n",
       "      <th>appointmentday</th>\n",
       "      <th>age</th>\n",
       "      <th>neighbourhood</th>\n",
       "      <th>scholarship</th>\n",
       "      <th>hipertension</th>\n",
       "      <th>diabetes</th>\n",
       "      <th>alcoholism</th>\n",
       "      <th>handcap</th>\n",
       "      <th>sms_received</th>\n",
       "      <th>Attendance</th>\n",
       "      <th>age_bin</th>\n",
       "    </tr>\n",
       "  </thead>\n",
       "  <tbody>\n",
       "    <tr>\n",
       "      <th>24987</th>\n",
       "      <td>9.598723e+13</td>\n",
       "      <td>5595387</td>\n",
       "      <td>F</td>\n",
       "      <td>2016-04-18</td>\n",
       "      <td>2016-05-05</td>\n",
       "      <td>37</td>\n",
       "      <td>AEROPORTO</td>\n",
       "      <td>0</td>\n",
       "      <td>0</td>\n",
       "      <td>0</td>\n",
       "      <td>0</td>\n",
       "      <td>0</td>\n",
       "      <td>0</td>\n",
       "      <td>0</td>\n",
       "      <td>25-50</td>\n",
       "    </tr>\n",
       "    <tr>\n",
       "      <th>216</th>\n",
       "      <td>3.719953e+11</td>\n",
       "      <td>5606885</td>\n",
       "      <td>F</td>\n",
       "      <td>2016-04-20</td>\n",
       "      <td>2016-04-29</td>\n",
       "      <td>29</td>\n",
       "      <td>ANDORINHAS</td>\n",
       "      <td>0</td>\n",
       "      <td>0</td>\n",
       "      <td>0</td>\n",
       "      <td>0</td>\n",
       "      <td>0</td>\n",
       "      <td>1</td>\n",
       "      <td>0</td>\n",
       "      <td>25-50</td>\n",
       "    </tr>\n",
       "    <tr>\n",
       "      <th>76</th>\n",
       "      <td>6.549277e+12</td>\n",
       "      <td>5597643</td>\n",
       "      <td>M</td>\n",
       "      <td>2016-04-18</td>\n",
       "      <td>2016-04-29</td>\n",
       "      <td>28</td>\n",
       "      <td>ANTÔNIO HONÓRIO</td>\n",
       "      <td>0</td>\n",
       "      <td>0</td>\n",
       "      <td>0</td>\n",
       "      <td>0</td>\n",
       "      <td>0</td>\n",
       "      <td>0</td>\n",
       "      <td>0</td>\n",
       "      <td>25-50</td>\n",
       "    </tr>\n",
       "    <tr>\n",
       "      <th>256</th>\n",
       "      <td>8.599713e+10</td>\n",
       "      <td>5629906</td>\n",
       "      <td>F</td>\n",
       "      <td>2016-04-27</td>\n",
       "      <td>2016-04-29</td>\n",
       "      <td>0</td>\n",
       "      <td>ARIOVALDO FAVALESSA</td>\n",
       "      <td>0</td>\n",
       "      <td>0</td>\n",
       "      <td>0</td>\n",
       "      <td>0</td>\n",
       "      <td>0</td>\n",
       "      <td>0</td>\n",
       "      <td>0</td>\n",
       "      <td>0-25</td>\n",
       "    </tr>\n",
       "    <tr>\n",
       "      <th>1363</th>\n",
       "      <td>9.279624e+13</td>\n",
       "      <td>5631486</td>\n",
       "      <td>F</td>\n",
       "      <td>2016-04-28</td>\n",
       "      <td>2016-04-29</td>\n",
       "      <td>34</td>\n",
       "      <td>BARRO VERMELHO</td>\n",
       "      <td>0</td>\n",
       "      <td>0</td>\n",
       "      <td>0</td>\n",
       "      <td>0</td>\n",
       "      <td>0</td>\n",
       "      <td>0</td>\n",
       "      <td>0</td>\n",
       "      <td>25-50</td>\n",
       "    </tr>\n",
       "    <tr>\n",
       "      <th>123</th>\n",
       "      <td>3.673278e+13</td>\n",
       "      <td>5621388</td>\n",
       "      <td>F</td>\n",
       "      <td>2016-04-26</td>\n",
       "      <td>2016-04-29</td>\n",
       "      <td>31</td>\n",
       "      <td>BELA VISTA</td>\n",
       "      <td>1</td>\n",
       "      <td>0</td>\n",
       "      <td>0</td>\n",
       "      <td>0</td>\n",
       "      <td>0</td>\n",
       "      <td>1</td>\n",
       "      <td>0</td>\n",
       "      <td>25-50</td>\n",
       "    </tr>\n",
       "    <tr>\n",
       "      <th>576</th>\n",
       "      <td>7.382561e+12</td>\n",
       "      <td>5612780</td>\n",
       "      <td>F</td>\n",
       "      <td>2016-04-25</td>\n",
       "      <td>2016-04-29</td>\n",
       "      <td>62</td>\n",
       "      <td>BENTO FERREIRA</td>\n",
       "      <td>0</td>\n",
       "      <td>0</td>\n",
       "      <td>0</td>\n",
       "      <td>0</td>\n",
       "      <td>0</td>\n",
       "      <td>1</td>\n",
       "      <td>0</td>\n",
       "      <td>50-75</td>\n",
       "    </tr>\n",
       "    <tr>\n",
       "      <th>4409</th>\n",
       "      <td>6.531269e+13</td>\n",
       "      <td>5635227</td>\n",
       "      <td>F</td>\n",
       "      <td>2016-04-28</td>\n",
       "      <td>2016-05-02</td>\n",
       "      <td>14</td>\n",
       "      <td>BOA VISTA</td>\n",
       "      <td>0</td>\n",
       "      <td>0</td>\n",
       "      <td>0</td>\n",
       "      <td>0</td>\n",
       "      <td>0</td>\n",
       "      <td>1</td>\n",
       "      <td>0</td>\n",
       "      <td>0-25</td>\n",
       "    </tr>\n",
       "    <tr>\n",
       "      <th>136</th>\n",
       "      <td>3.428312e+12</td>\n",
       "      <td>5587516</td>\n",
       "      <td>F</td>\n",
       "      <td>2016-04-15</td>\n",
       "      <td>2016-04-29</td>\n",
       "      <td>33</td>\n",
       "      <td>BONFIM</td>\n",
       "      <td>1</td>\n",
       "      <td>0</td>\n",
       "      <td>0</td>\n",
       "      <td>0</td>\n",
       "      <td>0</td>\n",
       "      <td>1</td>\n",
       "      <td>0</td>\n",
       "      <td>25-50</td>\n",
       "    </tr>\n",
       "    <tr>\n",
       "      <th>237</th>\n",
       "      <td>5.369588e+12</td>\n",
       "      <td>5623002</td>\n",
       "      <td>F</td>\n",
       "      <td>2016-04-26</td>\n",
       "      <td>2016-04-29</td>\n",
       "      <td>27</td>\n",
       "      <td>CARATOÍRA</td>\n",
       "      <td>1</td>\n",
       "      <td>0</td>\n",
       "      <td>0</td>\n",
       "      <td>0</td>\n",
       "      <td>0</td>\n",
       "      <td>1</td>\n",
       "      <td>0</td>\n",
       "      <td>25-50</td>\n",
       "    </tr>\n",
       "    <tr>\n",
       "      <th>553</th>\n",
       "      <td>4.916356e+12</td>\n",
       "      <td>5521768</td>\n",
       "      <td>M</td>\n",
       "      <td>2016-03-29</td>\n",
       "      <td>2016-04-29</td>\n",
       "      <td>40</td>\n",
       "      <td>CENTRO</td>\n",
       "      <td>0</td>\n",
       "      <td>0</td>\n",
       "      <td>0</td>\n",
       "      <td>0</td>\n",
       "      <td>0</td>\n",
       "      <td>0</td>\n",
       "      <td>0</td>\n",
       "      <td>25-50</td>\n",
       "    </tr>\n",
       "    <tr>\n",
       "      <th>1260</th>\n",
       "      <td>6.236134e+11</td>\n",
       "      <td>5630432</td>\n",
       "      <td>F</td>\n",
       "      <td>2016-04-27</td>\n",
       "      <td>2016-04-29</td>\n",
       "      <td>26</td>\n",
       "      <td>COMDUSA</td>\n",
       "      <td>0</td>\n",
       "      <td>0</td>\n",
       "      <td>0</td>\n",
       "      <td>0</td>\n",
       "      <td>0</td>\n",
       "      <td>0</td>\n",
       "      <td>0</td>\n",
       "      <td>25-50</td>\n",
       "    </tr>\n",
       "    <tr>\n",
       "      <th>17</th>\n",
       "      <td>1.479497e+13</td>\n",
       "      <td>5633460</td>\n",
       "      <td>F</td>\n",
       "      <td>2016-04-28</td>\n",
       "      <td>2016-04-29</td>\n",
       "      <td>40</td>\n",
       "      <td>CONQUISTA</td>\n",
       "      <td>1</td>\n",
       "      <td>0</td>\n",
       "      <td>0</td>\n",
       "      <td>0</td>\n",
       "      <td>0</td>\n",
       "      <td>0</td>\n",
       "      <td>0</td>\n",
       "      <td>25-50</td>\n",
       "    </tr>\n",
       "    <tr>\n",
       "      <th>358</th>\n",
       "      <td>7.349270e+14</td>\n",
       "      <td>5531831</td>\n",
       "      <td>F</td>\n",
       "      <td>2016-03-31</td>\n",
       "      <td>2016-04-29</td>\n",
       "      <td>0</td>\n",
       "      <td>CONSOLAÇÃO</td>\n",
       "      <td>0</td>\n",
       "      <td>0</td>\n",
       "      <td>0</td>\n",
       "      <td>0</td>\n",
       "      <td>0</td>\n",
       "      <td>0</td>\n",
       "      <td>0</td>\n",
       "      <td>0-25</td>\n",
       "    </tr>\n",
       "    <tr>\n",
       "      <th>686</th>\n",
       "      <td>6.941444e+14</td>\n",
       "      <td>5629172</td>\n",
       "      <td>F</td>\n",
       "      <td>2016-04-27</td>\n",
       "      <td>2016-04-29</td>\n",
       "      <td>1</td>\n",
       "      <td>CRUZAMENTO</td>\n",
       "      <td>0</td>\n",
       "      <td>0</td>\n",
       "      <td>0</td>\n",
       "      <td>0</td>\n",
       "      <td>0</td>\n",
       "      <td>0</td>\n",
       "      <td>0</td>\n",
       "      <td>0-25</td>\n",
       "    </tr>\n",
       "    <tr>\n",
       "      <th>137</th>\n",
       "      <td>8.545794e+10</td>\n",
       "      <td>5587875</td>\n",
       "      <td>M</td>\n",
       "      <td>2016-04-15</td>\n",
       "      <td>2016-04-29</td>\n",
       "      <td>18</td>\n",
       "      <td>DA PENHA</td>\n",
       "      <td>0</td>\n",
       "      <td>0</td>\n",
       "      <td>0</td>\n",
       "      <td>0</td>\n",
       "      <td>0</td>\n",
       "      <td>1</td>\n",
       "      <td>0</td>\n",
       "      <td>0-25</td>\n",
       "    </tr>\n",
       "    <tr>\n",
       "      <th>862</th>\n",
       "      <td>1.538956e+14</td>\n",
       "      <td>5558848</td>\n",
       "      <td>F</td>\n",
       "      <td>2016-04-08</td>\n",
       "      <td>2016-04-29</td>\n",
       "      <td>55</td>\n",
       "      <td>DE LOURDES</td>\n",
       "      <td>0</td>\n",
       "      <td>0</td>\n",
       "      <td>0</td>\n",
       "      <td>0</td>\n",
       "      <td>0</td>\n",
       "      <td>1</td>\n",
       "      <td>0</td>\n",
       "      <td>50-75</td>\n",
       "    </tr>\n",
       "    <tr>\n",
       "      <th>2189</th>\n",
       "      <td>3.939988e+12</td>\n",
       "      <td>5564718</td>\n",
       "      <td>F</td>\n",
       "      <td>2016-04-11</td>\n",
       "      <td>2016-04-29</td>\n",
       "      <td>43</td>\n",
       "      <td>DO CABRAL</td>\n",
       "      <td>0</td>\n",
       "      <td>0</td>\n",
       "      <td>0</td>\n",
       "      <td>0</td>\n",
       "      <td>0</td>\n",
       "      <td>0</td>\n",
       "      <td>0</td>\n",
       "      <td>25-50</td>\n",
       "    </tr>\n",
       "    <tr>\n",
       "      <th>926</th>\n",
       "      <td>1.762682e+12</td>\n",
       "      <td>5621520</td>\n",
       "      <td>M</td>\n",
       "      <td>2016-04-26</td>\n",
       "      <td>2016-04-29</td>\n",
       "      <td>80</td>\n",
       "      <td>DO MOSCOSO</td>\n",
       "      <td>0</td>\n",
       "      <td>0</td>\n",
       "      <td>0</td>\n",
       "      <td>0</td>\n",
       "      <td>0</td>\n",
       "      <td>0</td>\n",
       "      <td>0</td>\n",
       "      <td>75-100</td>\n",
       "    </tr>\n",
       "    <tr>\n",
       "      <th>1436</th>\n",
       "      <td>8.955632e+14</td>\n",
       "      <td>5595905</td>\n",
       "      <td>M</td>\n",
       "      <td>2016-04-18</td>\n",
       "      <td>2016-04-29</td>\n",
       "      <td>10</td>\n",
       "      <td>DO QUADRO</td>\n",
       "      <td>0</td>\n",
       "      <td>0</td>\n",
       "      <td>0</td>\n",
       "      <td>0</td>\n",
       "      <td>0</td>\n",
       "      <td>1</td>\n",
       "      <td>0</td>\n",
       "      <td>0-25</td>\n",
       "    </tr>\n",
       "    <tr>\n",
       "      <th>1443</th>\n",
       "      <td>8.338348e+13</td>\n",
       "      <td>5607987</td>\n",
       "      <td>F</td>\n",
       "      <td>2016-04-20</td>\n",
       "      <td>2016-04-29</td>\n",
       "      <td>58</td>\n",
       "      <td>ENSEADA DO SUÁ</td>\n",
       "      <td>0</td>\n",
       "      <td>1</td>\n",
       "      <td>0</td>\n",
       "      <td>0</td>\n",
       "      <td>0</td>\n",
       "      <td>0</td>\n",
       "      <td>0</td>\n",
       "      <td>50-75</td>\n",
       "    </tr>\n",
       "    <tr>\n",
       "      <th>1371</th>\n",
       "      <td>4.287628e+12</td>\n",
       "      <td>5631423</td>\n",
       "      <td>M</td>\n",
       "      <td>2016-04-28</td>\n",
       "      <td>2016-04-29</td>\n",
       "      <td>31</td>\n",
       "      <td>ESTRELINHA</td>\n",
       "      <td>0</td>\n",
       "      <td>1</td>\n",
       "      <td>0</td>\n",
       "      <td>0</td>\n",
       "      <td>0</td>\n",
       "      <td>0</td>\n",
       "      <td>0</td>\n",
       "      <td>25-50</td>\n",
       "    </tr>\n",
       "    <tr>\n",
       "      <th>651</th>\n",
       "      <td>5.931963e+12</td>\n",
       "      <td>5562309</td>\n",
       "      <td>M</td>\n",
       "      <td>2016-04-08</td>\n",
       "      <td>2016-04-29</td>\n",
       "      <td>19</td>\n",
       "      <td>FONTE GRANDE</td>\n",
       "      <td>1</td>\n",
       "      <td>0</td>\n",
       "      <td>0</td>\n",
       "      <td>0</td>\n",
       "      <td>0</td>\n",
       "      <td>1</td>\n",
       "      <td>0</td>\n",
       "      <td>0-25</td>\n",
       "    </tr>\n",
       "    <tr>\n",
       "      <th>1893</th>\n",
       "      <td>5.579675e+12</td>\n",
       "      <td>5602845</td>\n",
       "      <td>F</td>\n",
       "      <td>2016-04-19</td>\n",
       "      <td>2016-04-29</td>\n",
       "      <td>18</td>\n",
       "      <td>FORTE SÃO JOÃO</td>\n",
       "      <td>0</td>\n",
       "      <td>0</td>\n",
       "      <td>0</td>\n",
       "      <td>0</td>\n",
       "      <td>0</td>\n",
       "      <td>1</td>\n",
       "      <td>0</td>\n",
       "      <td>0-25</td>\n",
       "    </tr>\n",
       "    <tr>\n",
       "      <th>4362</th>\n",
       "      <td>5.952139e+12</td>\n",
       "      <td>5677114</td>\n",
       "      <td>M</td>\n",
       "      <td>2016-05-09</td>\n",
       "      <td>2016-05-16</td>\n",
       "      <td>37</td>\n",
       "      <td>FRADINHOS</td>\n",
       "      <td>0</td>\n",
       "      <td>0</td>\n",
       "      <td>0</td>\n",
       "      <td>0</td>\n",
       "      <td>0</td>\n",
       "      <td>0</td>\n",
       "      <td>0</td>\n",
       "      <td>25-50</td>\n",
       "    </tr>\n",
       "    <tr>\n",
       "      <th>6</th>\n",
       "      <td>7.336882e+14</td>\n",
       "      <td>5630279</td>\n",
       "      <td>F</td>\n",
       "      <td>2016-04-27</td>\n",
       "      <td>2016-04-29</td>\n",
       "      <td>23</td>\n",
       "      <td>GOIABEIRAS</td>\n",
       "      <td>0</td>\n",
       "      <td>0</td>\n",
       "      <td>0</td>\n",
       "      <td>0</td>\n",
       "      <td>0</td>\n",
       "      <td>0</td>\n",
       "      <td>0</td>\n",
       "      <td>0-25</td>\n",
       "    </tr>\n",
       "    <tr>\n",
       "      <th>49</th>\n",
       "      <td>9.223559e+13</td>\n",
       "      <td>5534656</td>\n",
       "      <td>F</td>\n",
       "      <td>2016-03-31</td>\n",
       "      <td>2016-04-29</td>\n",
       "      <td>27</td>\n",
       "      <td>GRANDE VITÓRIA</td>\n",
       "      <td>0</td>\n",
       "      <td>0</td>\n",
       "      <td>0</td>\n",
       "      <td>0</td>\n",
       "      <td>0</td>\n",
       "      <td>1</td>\n",
       "      <td>0</td>\n",
       "      <td>25-50</td>\n",
       "    </tr>\n",
       "    <tr>\n",
       "      <th>1135</th>\n",
       "      <td>6.714635e+09</td>\n",
       "      <td>5576760</td>\n",
       "      <td>F</td>\n",
       "      <td>2016-04-13</td>\n",
       "      <td>2016-04-29</td>\n",
       "      <td>19</td>\n",
       "      <td>GURIGICA</td>\n",
       "      <td>0</td>\n",
       "      <td>0</td>\n",
       "      <td>0</td>\n",
       "      <td>0</td>\n",
       "      <td>0</td>\n",
       "      <td>1</td>\n",
       "      <td>0</td>\n",
       "      <td>0-25</td>\n",
       "    </tr>\n",
       "    <tr>\n",
       "      <th>1622</th>\n",
       "      <td>4.487227e+14</td>\n",
       "      <td>5604164</td>\n",
       "      <td>F</td>\n",
       "      <td>2016-04-20</td>\n",
       "      <td>2016-04-29</td>\n",
       "      <td>30</td>\n",
       "      <td>HORTO</td>\n",
       "      <td>0</td>\n",
       "      <td>0</td>\n",
       "      <td>0</td>\n",
       "      <td>0</td>\n",
       "      <td>0</td>\n",
       "      <td>1</td>\n",
       "      <td>0</td>\n",
       "      <td>25-50</td>\n",
       "    </tr>\n",
       "    <tr>\n",
       "      <th>2009</th>\n",
       "      <td>4.172398e+13</td>\n",
       "      <td>5620901</td>\n",
       "      <td>M</td>\n",
       "      <td>2016-04-26</td>\n",
       "      <td>2016-04-29</td>\n",
       "      <td>13</td>\n",
       "      <td>ILHA DAS CAIEIRAS</td>\n",
       "      <td>0</td>\n",
       "      <td>0</td>\n",
       "      <td>0</td>\n",
       "      <td>0</td>\n",
       "      <td>0</td>\n",
       "      <td>1</td>\n",
       "      <td>0</td>\n",
       "      <td>0-25</td>\n",
       "    </tr>\n",
       "    <tr>\n",
       "      <th>...</th>\n",
       "      <td>...</td>\n",
       "      <td>...</td>\n",
       "      <td>...</td>\n",
       "      <td>...</td>\n",
       "      <td>...</td>\n",
       "      <td>...</td>\n",
       "      <td>...</td>\n",
       "      <td>...</td>\n",
       "      <td>...</td>\n",
       "      <td>...</td>\n",
       "      <td>...</td>\n",
       "      <td>...</td>\n",
       "      <td>...</td>\n",
       "      <td>...</td>\n",
       "      <td>...</td>\n",
       "    </tr>\n",
       "    <tr>\n",
       "      <th>75199</th>\n",
       "      <td>8.255992e+12</td>\n",
       "      <td>5663947</td>\n",
       "      <td>F</td>\n",
       "      <td>2016-05-05</td>\n",
       "      <td>2016-05-05</td>\n",
       "      <td>17</td>\n",
       "      <td>PARQUE INDUSTRIAL</td>\n",
       "      <td>0</td>\n",
       "      <td>0</td>\n",
       "      <td>0</td>\n",
       "      <td>0</td>\n",
       "      <td>0</td>\n",
       "      <td>0</td>\n",
       "      <td>1</td>\n",
       "      <td>0-25</td>\n",
       "    </tr>\n",
       "    <tr>\n",
       "      <th>555</th>\n",
       "      <td>9.588774e+13</td>\n",
       "      <td>5522438</td>\n",
       "      <td>F</td>\n",
       "      <td>2016-03-29</td>\n",
       "      <td>2016-04-29</td>\n",
       "      <td>28</td>\n",
       "      <td>PARQUE MOSCOSO</td>\n",
       "      <td>0</td>\n",
       "      <td>0</td>\n",
       "      <td>0</td>\n",
       "      <td>0</td>\n",
       "      <td>0</td>\n",
       "      <td>1</td>\n",
       "      <td>0</td>\n",
       "      <td>25-50</td>\n",
       "    </tr>\n",
       "    <tr>\n",
       "      <th>3891</th>\n",
       "      <td>1.172525e+13</td>\n",
       "      <td>5709076</td>\n",
       "      <td>F</td>\n",
       "      <td>2016-05-17</td>\n",
       "      <td>2016-05-19</td>\n",
       "      <td>54</td>\n",
       "      <td>PIEDADE</td>\n",
       "      <td>0</td>\n",
       "      <td>1</td>\n",
       "      <td>0</td>\n",
       "      <td>1</td>\n",
       "      <td>0</td>\n",
       "      <td>0</td>\n",
       "      <td>0</td>\n",
       "      <td>50-75</td>\n",
       "    </tr>\n",
       "    <tr>\n",
       "      <th>48623</th>\n",
       "      <td>5.564489e+13</td>\n",
       "      <td>5641757</td>\n",
       "      <td>M</td>\n",
       "      <td>2016-04-29</td>\n",
       "      <td>2016-05-19</td>\n",
       "      <td>77</td>\n",
       "      <td>PONTAL DE CAMBURI</td>\n",
       "      <td>0</td>\n",
       "      <td>0</td>\n",
       "      <td>0</td>\n",
       "      <td>0</td>\n",
       "      <td>0</td>\n",
       "      <td>0</td>\n",
       "      <td>0</td>\n",
       "      <td>75-100</td>\n",
       "    </tr>\n",
       "    <tr>\n",
       "      <th>619</th>\n",
       "      <td>4.272659e+13</td>\n",
       "      <td>5634178</td>\n",
       "      <td>F</td>\n",
       "      <td>2016-04-28</td>\n",
       "      <td>2016-04-29</td>\n",
       "      <td>67</td>\n",
       "      <td>PRAIA DO CANTO</td>\n",
       "      <td>0</td>\n",
       "      <td>1</td>\n",
       "      <td>1</td>\n",
       "      <td>0</td>\n",
       "      <td>0</td>\n",
       "      <td>0</td>\n",
       "      <td>0</td>\n",
       "      <td>50-75</td>\n",
       "    </tr>\n",
       "    <tr>\n",
       "      <th>126</th>\n",
       "      <td>9.447582e+14</td>\n",
       "      <td>5633576</td>\n",
       "      <td>F</td>\n",
       "      <td>2016-04-28</td>\n",
       "      <td>2016-04-29</td>\n",
       "      <td>67</td>\n",
       "      <td>PRAIA DO SUÁ</td>\n",
       "      <td>0</td>\n",
       "      <td>0</td>\n",
       "      <td>1</td>\n",
       "      <td>0</td>\n",
       "      <td>0</td>\n",
       "      <td>0</td>\n",
       "      <td>0</td>\n",
       "      <td>50-75</td>\n",
       "    </tr>\n",
       "    <tr>\n",
       "      <th>669</th>\n",
       "      <td>9.491857e+12</td>\n",
       "      <td>5600505</td>\n",
       "      <td>F</td>\n",
       "      <td>2016-04-19</td>\n",
       "      <td>2016-04-29</td>\n",
       "      <td>33</td>\n",
       "      <td>REDENÇÃO</td>\n",
       "      <td>0</td>\n",
       "      <td>0</td>\n",
       "      <td>0</td>\n",
       "      <td>0</td>\n",
       "      <td>1</td>\n",
       "      <td>0</td>\n",
       "      <td>0</td>\n",
       "      <td>25-50</td>\n",
       "    </tr>\n",
       "    <tr>\n",
       "      <th>1583</th>\n",
       "      <td>2.395477e+10</td>\n",
       "      <td>5629428</td>\n",
       "      <td>F</td>\n",
       "      <td>2016-04-27</td>\n",
       "      <td>2016-04-29</td>\n",
       "      <td>14</td>\n",
       "      <td>REPÚBLICA</td>\n",
       "      <td>0</td>\n",
       "      <td>0</td>\n",
       "      <td>0</td>\n",
       "      <td>0</td>\n",
       "      <td>1</td>\n",
       "      <td>0</td>\n",
       "      <td>0</td>\n",
       "      <td>0-25</td>\n",
       "    </tr>\n",
       "    <tr>\n",
       "      <th>1372</th>\n",
       "      <td>5.214130e+12</td>\n",
       "      <td>5631419</td>\n",
       "      <td>F</td>\n",
       "      <td>2016-04-28</td>\n",
       "      <td>2016-04-29</td>\n",
       "      <td>17</td>\n",
       "      <td>RESISTÊNCIA</td>\n",
       "      <td>0</td>\n",
       "      <td>0</td>\n",
       "      <td>0</td>\n",
       "      <td>0</td>\n",
       "      <td>0</td>\n",
       "      <td>0</td>\n",
       "      <td>0</td>\n",
       "      <td>0-25</td>\n",
       "    </tr>\n",
       "    <tr>\n",
       "      <th>1131</th>\n",
       "      <td>4.788217e+14</td>\n",
       "      <td>5544176</td>\n",
       "      <td>F</td>\n",
       "      <td>2016-04-05</td>\n",
       "      <td>2016-04-29</td>\n",
       "      <td>38</td>\n",
       "      <td>ROMÃO</td>\n",
       "      <td>1</td>\n",
       "      <td>1</td>\n",
       "      <td>0</td>\n",
       "      <td>0</td>\n",
       "      <td>0</td>\n",
       "      <td>0</td>\n",
       "      <td>0</td>\n",
       "      <td>25-50</td>\n",
       "    </tr>\n",
       "    <tr>\n",
       "      <th>1979</th>\n",
       "      <td>2.452831e+14</td>\n",
       "      <td>5596079</td>\n",
       "      <td>F</td>\n",
       "      <td>2016-04-18</td>\n",
       "      <td>2016-04-29</td>\n",
       "      <td>46</td>\n",
       "      <td>SANTA CECÍLIA</td>\n",
       "      <td>0</td>\n",
       "      <td>0</td>\n",
       "      <td>0</td>\n",
       "      <td>0</td>\n",
       "      <td>0</td>\n",
       "      <td>1</td>\n",
       "      <td>0</td>\n",
       "      <td>25-50</td>\n",
       "    </tr>\n",
       "    <tr>\n",
       "      <th>2940</th>\n",
       "      <td>2.267664e+11</td>\n",
       "      <td>5602856</td>\n",
       "      <td>F</td>\n",
       "      <td>2016-04-19</td>\n",
       "      <td>2016-04-29</td>\n",
       "      <td>21</td>\n",
       "      <td>SANTA CLARA</td>\n",
       "      <td>0</td>\n",
       "      <td>0</td>\n",
       "      <td>0</td>\n",
       "      <td>0</td>\n",
       "      <td>0</td>\n",
       "      <td>1</td>\n",
       "      <td>0</td>\n",
       "      <td>0-25</td>\n",
       "    </tr>\n",
       "    <tr>\n",
       "      <th>1996</th>\n",
       "      <td>2.558875e+14</td>\n",
       "      <td>5584467</td>\n",
       "      <td>F</td>\n",
       "      <td>2016-04-14</td>\n",
       "      <td>2016-04-29</td>\n",
       "      <td>14</td>\n",
       "      <td>SANTA HELENA</td>\n",
       "      <td>1</td>\n",
       "      <td>0</td>\n",
       "      <td>0</td>\n",
       "      <td>0</td>\n",
       "      <td>0</td>\n",
       "      <td>1</td>\n",
       "      <td>0</td>\n",
       "      <td>0-25</td>\n",
       "    </tr>\n",
       "    <tr>\n",
       "      <th>1351</th>\n",
       "      <td>8.519344e+13</td>\n",
       "      <td>5631875</td>\n",
       "      <td>F</td>\n",
       "      <td>2016-04-28</td>\n",
       "      <td>2016-04-29</td>\n",
       "      <td>19</td>\n",
       "      <td>SANTA LUÍZA</td>\n",
       "      <td>0</td>\n",
       "      <td>0</td>\n",
       "      <td>0</td>\n",
       "      <td>0</td>\n",
       "      <td>0</td>\n",
       "      <td>0</td>\n",
       "      <td>0</td>\n",
       "      <td>0-25</td>\n",
       "    </tr>\n",
       "    <tr>\n",
       "      <th>568</th>\n",
       "      <td>2.884273e+12</td>\n",
       "      <td>5565770</td>\n",
       "      <td>M</td>\n",
       "      <td>2016-04-11</td>\n",
       "      <td>2016-04-29</td>\n",
       "      <td>22</td>\n",
       "      <td>SANTA LÚCIA</td>\n",
       "      <td>0</td>\n",
       "      <td>0</td>\n",
       "      <td>0</td>\n",
       "      <td>0</td>\n",
       "      <td>0</td>\n",
       "      <td>1</td>\n",
       "      <td>0</td>\n",
       "      <td>0-25</td>\n",
       "    </tr>\n",
       "    <tr>\n",
       "      <th>1025</th>\n",
       "      <td>9.298734e+13</td>\n",
       "      <td>5521644</td>\n",
       "      <td>F</td>\n",
       "      <td>2016-03-29</td>\n",
       "      <td>2016-04-29</td>\n",
       "      <td>30</td>\n",
       "      <td>SANTA MARTHA</td>\n",
       "      <td>0</td>\n",
       "      <td>0</td>\n",
       "      <td>0</td>\n",
       "      <td>0</td>\n",
       "      <td>0</td>\n",
       "      <td>1</td>\n",
       "      <td>0</td>\n",
       "      <td>25-50</td>\n",
       "    </tr>\n",
       "    <tr>\n",
       "      <th>673</th>\n",
       "      <td>6.234618e+14</td>\n",
       "      <td>5533700</td>\n",
       "      <td>F</td>\n",
       "      <td>2016-03-31</td>\n",
       "      <td>2016-04-29</td>\n",
       "      <td>27</td>\n",
       "      <td>SANTA TEREZA</td>\n",
       "      <td>0</td>\n",
       "      <td>0</td>\n",
       "      <td>0</td>\n",
       "      <td>0</td>\n",
       "      <td>0</td>\n",
       "      <td>1</td>\n",
       "      <td>0</td>\n",
       "      <td>25-50</td>\n",
       "    </tr>\n",
       "    <tr>\n",
       "      <th>668</th>\n",
       "      <td>5.654828e+10</td>\n",
       "      <td>5599192</td>\n",
       "      <td>F</td>\n",
       "      <td>2016-04-19</td>\n",
       "      <td>2016-04-29</td>\n",
       "      <td>40</td>\n",
       "      <td>SANTO ANDRÉ</td>\n",
       "      <td>0</td>\n",
       "      <td>0</td>\n",
       "      <td>0</td>\n",
       "      <td>0</td>\n",
       "      <td>0</td>\n",
       "      <td>0</td>\n",
       "      <td>0</td>\n",
       "      <td>25-50</td>\n",
       "    </tr>\n",
       "    <tr>\n",
       "      <th>104</th>\n",
       "      <td>3.326985e+12</td>\n",
       "      <td>5632495</td>\n",
       "      <td>F</td>\n",
       "      <td>2016-04-28</td>\n",
       "      <td>2016-04-29</td>\n",
       "      <td>0</td>\n",
       "      <td>SANTO ANTÔNIO</td>\n",
       "      <td>0</td>\n",
       "      <td>0</td>\n",
       "      <td>0</td>\n",
       "      <td>0</td>\n",
       "      <td>0</td>\n",
       "      <td>0</td>\n",
       "      <td>0</td>\n",
       "      <td>0-25</td>\n",
       "    </tr>\n",
       "    <tr>\n",
       "      <th>212</th>\n",
       "      <td>4.266984e+14</td>\n",
       "      <td>5642059</td>\n",
       "      <td>M</td>\n",
       "      <td>2016-04-29</td>\n",
       "      <td>2016-04-29</td>\n",
       "      <td>62</td>\n",
       "      <td>SANTOS DUMONT</td>\n",
       "      <td>0</td>\n",
       "      <td>1</td>\n",
       "      <td>1</td>\n",
       "      <td>0</td>\n",
       "      <td>0</td>\n",
       "      <td>0</td>\n",
       "      <td>0</td>\n",
       "      <td>50-75</td>\n",
       "    </tr>\n",
       "    <tr>\n",
       "      <th>2014</th>\n",
       "      <td>5.384512e+13</td>\n",
       "      <td>5601706</td>\n",
       "      <td>M</td>\n",
       "      <td>2016-04-19</td>\n",
       "      <td>2016-04-29</td>\n",
       "      <td>9</td>\n",
       "      <td>SANTOS REIS</td>\n",
       "      <td>1</td>\n",
       "      <td>0</td>\n",
       "      <td>0</td>\n",
       "      <td>0</td>\n",
       "      <td>0</td>\n",
       "      <td>1</td>\n",
       "      <td>0</td>\n",
       "      <td>0-25</td>\n",
       "    </tr>\n",
       "    <tr>\n",
       "      <th>3138</th>\n",
       "      <td>5.324252e+13</td>\n",
       "      <td>5630297</td>\n",
       "      <td>F</td>\n",
       "      <td>2016-04-27</td>\n",
       "      <td>2016-04-29</td>\n",
       "      <td>43</td>\n",
       "      <td>SEGURANÇA DO LAR</td>\n",
       "      <td>0</td>\n",
       "      <td>0</td>\n",
       "      <td>0</td>\n",
       "      <td>0</td>\n",
       "      <td>0</td>\n",
       "      <td>0</td>\n",
       "      <td>0</td>\n",
       "      <td>25-50</td>\n",
       "    </tr>\n",
       "    <tr>\n",
       "      <th>1407</th>\n",
       "      <td>6.965982e+13</td>\n",
       "      <td>5631088</td>\n",
       "      <td>F</td>\n",
       "      <td>2016-04-27</td>\n",
       "      <td>2016-04-29</td>\n",
       "      <td>48</td>\n",
       "      <td>SOLON BORGES</td>\n",
       "      <td>1</td>\n",
       "      <td>0</td>\n",
       "      <td>0</td>\n",
       "      <td>0</td>\n",
       "      <td>0</td>\n",
       "      <td>0</td>\n",
       "      <td>0</td>\n",
       "      <td>25-50</td>\n",
       "    </tr>\n",
       "    <tr>\n",
       "      <th>440</th>\n",
       "      <td>8.366249e+13</td>\n",
       "      <td>5639495</td>\n",
       "      <td>F</td>\n",
       "      <td>2016-04-29</td>\n",
       "      <td>2016-04-29</td>\n",
       "      <td>25</td>\n",
       "      <td>SÃO BENEDITO</td>\n",
       "      <td>1</td>\n",
       "      <td>0</td>\n",
       "      <td>0</td>\n",
       "      <td>0</td>\n",
       "      <td>0</td>\n",
       "      <td>0</td>\n",
       "      <td>0</td>\n",
       "      <td>0-25</td>\n",
       "    </tr>\n",
       "    <tr>\n",
       "      <th>44</th>\n",
       "      <td>2.741649e+11</td>\n",
       "      <td>5635414</td>\n",
       "      <td>F</td>\n",
       "      <td>2016-04-28</td>\n",
       "      <td>2016-04-29</td>\n",
       "      <td>78</td>\n",
       "      <td>SÃO CRISTÓVÃO</td>\n",
       "      <td>0</td>\n",
       "      <td>1</td>\n",
       "      <td>1</td>\n",
       "      <td>0</td>\n",
       "      <td>0</td>\n",
       "      <td>0</td>\n",
       "      <td>0</td>\n",
       "      <td>75-100</td>\n",
       "    </tr>\n",
       "    <tr>\n",
       "      <th>185</th>\n",
       "      <td>6.642793e+13</td>\n",
       "      <td>5521733</td>\n",
       "      <td>F</td>\n",
       "      <td>2016-03-29</td>\n",
       "      <td>2016-04-29</td>\n",
       "      <td>35</td>\n",
       "      <td>SÃO JOSÉ</td>\n",
       "      <td>1</td>\n",
       "      <td>0</td>\n",
       "      <td>0</td>\n",
       "      <td>0</td>\n",
       "      <td>0</td>\n",
       "      <td>1</td>\n",
       "      <td>0</td>\n",
       "      <td>25-50</td>\n",
       "    </tr>\n",
       "    <tr>\n",
       "      <th>172</th>\n",
       "      <td>5.717356e+13</td>\n",
       "      <td>5537888</td>\n",
       "      <td>F</td>\n",
       "      <td>2016-04-01</td>\n",
       "      <td>2016-04-29</td>\n",
       "      <td>17</td>\n",
       "      <td>SÃO PEDRO</td>\n",
       "      <td>0</td>\n",
       "      <td>0</td>\n",
       "      <td>0</td>\n",
       "      <td>0</td>\n",
       "      <td>0</td>\n",
       "      <td>1</td>\n",
       "      <td>0</td>\n",
       "      <td>0-25</td>\n",
       "    </tr>\n",
       "    <tr>\n",
       "      <th>336</th>\n",
       "      <td>2.817719e+13</td>\n",
       "      <td>5490381</td>\n",
       "      <td>M</td>\n",
       "      <td>2016-03-18</td>\n",
       "      <td>2016-04-29</td>\n",
       "      <td>51</td>\n",
       "      <td>TABUAZEIRO</td>\n",
       "      <td>0</td>\n",
       "      <td>0</td>\n",
       "      <td>0</td>\n",
       "      <td>0</td>\n",
       "      <td>0</td>\n",
       "      <td>1</td>\n",
       "      <td>0</td>\n",
       "      <td>50-75</td>\n",
       "    </tr>\n",
       "    <tr>\n",
       "      <th>14020</th>\n",
       "      <td>3.536273e+13</td>\n",
       "      <td>5676915</td>\n",
       "      <td>M</td>\n",
       "      <td>2016-05-09</td>\n",
       "      <td>2016-05-11</td>\n",
       "      <td>50</td>\n",
       "      <td>UNIVERSITÁRIO</td>\n",
       "      <td>0</td>\n",
       "      <td>0</td>\n",
       "      <td>0</td>\n",
       "      <td>0</td>\n",
       "      <td>0</td>\n",
       "      <td>0</td>\n",
       "      <td>0</td>\n",
       "      <td>25-50</td>\n",
       "    </tr>\n",
       "    <tr>\n",
       "      <th>1430</th>\n",
       "      <td>3.656627e+14</td>\n",
       "      <td>5612155</td>\n",
       "      <td>F</td>\n",
       "      <td>2016-04-25</td>\n",
       "      <td>2016-04-29</td>\n",
       "      <td>67</td>\n",
       "      <td>VILA RUBIM</td>\n",
       "      <td>0</td>\n",
       "      <td>1</td>\n",
       "      <td>1</td>\n",
       "      <td>0</td>\n",
       "      <td>0</td>\n",
       "      <td>1</td>\n",
       "      <td>0</td>\n",
       "      <td>50-75</td>\n",
       "    </tr>\n",
       "  </tbody>\n",
       "</table>\n",
       "<p>81 rows × 15 columns</p>\n",
       "</div>"
      ],
      "text/plain": [
       "          patientid  appointmentid gender scheduledday appointmentday  age  \\\n",
       "24987  9.598723e+13        5595387      F   2016-04-18     2016-05-05   37   \n",
       "216    3.719953e+11        5606885      F   2016-04-20     2016-04-29   29   \n",
       "76     6.549277e+12        5597643      M   2016-04-18     2016-04-29   28   \n",
       "256    8.599713e+10        5629906      F   2016-04-27     2016-04-29    0   \n",
       "1363   9.279624e+13        5631486      F   2016-04-28     2016-04-29   34   \n",
       "123    3.673278e+13        5621388      F   2016-04-26     2016-04-29   31   \n",
       "576    7.382561e+12        5612780      F   2016-04-25     2016-04-29   62   \n",
       "4409   6.531269e+13        5635227      F   2016-04-28     2016-05-02   14   \n",
       "136    3.428312e+12        5587516      F   2016-04-15     2016-04-29   33   \n",
       "237    5.369588e+12        5623002      F   2016-04-26     2016-04-29   27   \n",
       "553    4.916356e+12        5521768      M   2016-03-29     2016-04-29   40   \n",
       "1260   6.236134e+11        5630432      F   2016-04-27     2016-04-29   26   \n",
       "17     1.479497e+13        5633460      F   2016-04-28     2016-04-29   40   \n",
       "358    7.349270e+14        5531831      F   2016-03-31     2016-04-29    0   \n",
       "686    6.941444e+14        5629172      F   2016-04-27     2016-04-29    1   \n",
       "137    8.545794e+10        5587875      M   2016-04-15     2016-04-29   18   \n",
       "862    1.538956e+14        5558848      F   2016-04-08     2016-04-29   55   \n",
       "2189   3.939988e+12        5564718      F   2016-04-11     2016-04-29   43   \n",
       "926    1.762682e+12        5621520      M   2016-04-26     2016-04-29   80   \n",
       "1436   8.955632e+14        5595905      M   2016-04-18     2016-04-29   10   \n",
       "1443   8.338348e+13        5607987      F   2016-04-20     2016-04-29   58   \n",
       "1371   4.287628e+12        5631423      M   2016-04-28     2016-04-29   31   \n",
       "651    5.931963e+12        5562309      M   2016-04-08     2016-04-29   19   \n",
       "1893   5.579675e+12        5602845      F   2016-04-19     2016-04-29   18   \n",
       "4362   5.952139e+12        5677114      M   2016-05-09     2016-05-16   37   \n",
       "6      7.336882e+14        5630279      F   2016-04-27     2016-04-29   23   \n",
       "49     9.223559e+13        5534656      F   2016-03-31     2016-04-29   27   \n",
       "1135   6.714635e+09        5576760      F   2016-04-13     2016-04-29   19   \n",
       "1622   4.487227e+14        5604164      F   2016-04-20     2016-04-29   30   \n",
       "2009   4.172398e+13        5620901      M   2016-04-26     2016-04-29   13   \n",
       "...             ...            ...    ...          ...            ...  ...   \n",
       "75199  8.255992e+12        5663947      F   2016-05-05     2016-05-05   17   \n",
       "555    9.588774e+13        5522438      F   2016-03-29     2016-04-29   28   \n",
       "3891   1.172525e+13        5709076      F   2016-05-17     2016-05-19   54   \n",
       "48623  5.564489e+13        5641757      M   2016-04-29     2016-05-19   77   \n",
       "619    4.272659e+13        5634178      F   2016-04-28     2016-04-29   67   \n",
       "126    9.447582e+14        5633576      F   2016-04-28     2016-04-29   67   \n",
       "669    9.491857e+12        5600505      F   2016-04-19     2016-04-29   33   \n",
       "1583   2.395477e+10        5629428      F   2016-04-27     2016-04-29   14   \n",
       "1372   5.214130e+12        5631419      F   2016-04-28     2016-04-29   17   \n",
       "1131   4.788217e+14        5544176      F   2016-04-05     2016-04-29   38   \n",
       "1979   2.452831e+14        5596079      F   2016-04-18     2016-04-29   46   \n",
       "2940   2.267664e+11        5602856      F   2016-04-19     2016-04-29   21   \n",
       "1996   2.558875e+14        5584467      F   2016-04-14     2016-04-29   14   \n",
       "1351   8.519344e+13        5631875      F   2016-04-28     2016-04-29   19   \n",
       "568    2.884273e+12        5565770      M   2016-04-11     2016-04-29   22   \n",
       "1025   9.298734e+13        5521644      F   2016-03-29     2016-04-29   30   \n",
       "673    6.234618e+14        5533700      F   2016-03-31     2016-04-29   27   \n",
       "668    5.654828e+10        5599192      F   2016-04-19     2016-04-29   40   \n",
       "104    3.326985e+12        5632495      F   2016-04-28     2016-04-29    0   \n",
       "212    4.266984e+14        5642059      M   2016-04-29     2016-04-29   62   \n",
       "2014   5.384512e+13        5601706      M   2016-04-19     2016-04-29    9   \n",
       "3138   5.324252e+13        5630297      F   2016-04-27     2016-04-29   43   \n",
       "1407   6.965982e+13        5631088      F   2016-04-27     2016-04-29   48   \n",
       "440    8.366249e+13        5639495      F   2016-04-29     2016-04-29   25   \n",
       "44     2.741649e+11        5635414      F   2016-04-28     2016-04-29   78   \n",
       "185    6.642793e+13        5521733      F   2016-03-29     2016-04-29   35   \n",
       "172    5.717356e+13        5537888      F   2016-04-01     2016-04-29   17   \n",
       "336    2.817719e+13        5490381      M   2016-03-18     2016-04-29   51   \n",
       "14020  3.536273e+13        5676915      M   2016-05-09     2016-05-11   50   \n",
       "1430   3.656627e+14        5612155      F   2016-04-25     2016-04-29   67   \n",
       "\n",
       "             neighbourhood  scholarship  hipertension  diabetes  alcoholism  \\\n",
       "24987            AEROPORTO            0             0         0           0   \n",
       "216             ANDORINHAS            0             0         0           0   \n",
       "76         ANTÔNIO HONÓRIO            0             0         0           0   \n",
       "256    ARIOVALDO FAVALESSA            0             0         0           0   \n",
       "1363        BARRO VERMELHO            0             0         0           0   \n",
       "123             BELA VISTA            1             0         0           0   \n",
       "576         BENTO FERREIRA            0             0         0           0   \n",
       "4409             BOA VISTA            0             0         0           0   \n",
       "136                 BONFIM            1             0         0           0   \n",
       "237              CARATOÍRA            1             0         0           0   \n",
       "553                 CENTRO            0             0         0           0   \n",
       "1260               COMDUSA            0             0         0           0   \n",
       "17               CONQUISTA            1             0         0           0   \n",
       "358             CONSOLAÇÃO            0             0         0           0   \n",
       "686             CRUZAMENTO            0             0         0           0   \n",
       "137               DA PENHA            0             0         0           0   \n",
       "862             DE LOURDES            0             0         0           0   \n",
       "2189             DO CABRAL            0             0         0           0   \n",
       "926             DO MOSCOSO            0             0         0           0   \n",
       "1436             DO QUADRO            0             0         0           0   \n",
       "1443        ENSEADA DO SUÁ            0             1         0           0   \n",
       "1371            ESTRELINHA            0             1         0           0   \n",
       "651           FONTE GRANDE            1             0         0           0   \n",
       "1893        FORTE SÃO JOÃO            0             0         0           0   \n",
       "4362             FRADINHOS            0             0         0           0   \n",
       "6               GOIABEIRAS            0             0         0           0   \n",
       "49          GRANDE VITÓRIA            0             0         0           0   \n",
       "1135              GURIGICA            0             0         0           0   \n",
       "1622                 HORTO            0             0         0           0   \n",
       "2009     ILHA DAS CAIEIRAS            0             0         0           0   \n",
       "...                    ...          ...           ...       ...         ...   \n",
       "75199    PARQUE INDUSTRIAL            0             0         0           0   \n",
       "555         PARQUE MOSCOSO            0             0         0           0   \n",
       "3891               PIEDADE            0             1         0           1   \n",
       "48623    PONTAL DE CAMBURI            0             0         0           0   \n",
       "619         PRAIA DO CANTO            0             1         1           0   \n",
       "126           PRAIA DO SUÁ            0             0         1           0   \n",
       "669               REDENÇÃO            0             0         0           0   \n",
       "1583             REPÚBLICA            0             0         0           0   \n",
       "1372           RESISTÊNCIA            0             0         0           0   \n",
       "1131                 ROMÃO            1             1         0           0   \n",
       "1979         SANTA CECÍLIA            0             0         0           0   \n",
       "2940           SANTA CLARA            0             0         0           0   \n",
       "1996          SANTA HELENA            1             0         0           0   \n",
       "1351           SANTA LUÍZA            0             0         0           0   \n",
       "568            SANTA LÚCIA            0             0         0           0   \n",
       "1025          SANTA MARTHA            0             0         0           0   \n",
       "673           SANTA TEREZA            0             0         0           0   \n",
       "668            SANTO ANDRÉ            0             0         0           0   \n",
       "104          SANTO ANTÔNIO            0             0         0           0   \n",
       "212          SANTOS DUMONT            0             1         1           0   \n",
       "2014           SANTOS REIS            1             0         0           0   \n",
       "3138      SEGURANÇA DO LAR            0             0         0           0   \n",
       "1407          SOLON BORGES            1             0         0           0   \n",
       "440           SÃO BENEDITO            1             0         0           0   \n",
       "44           SÃO CRISTÓVÃO            0             1         1           0   \n",
       "185               SÃO JOSÉ            1             0         0           0   \n",
       "172              SÃO PEDRO            0             0         0           0   \n",
       "336             TABUAZEIRO            0             0         0           0   \n",
       "14020        UNIVERSITÁRIO            0             0         0           0   \n",
       "1430            VILA RUBIM            0             1         1           0   \n",
       "\n",
       "       handcap  sms_received  Attendance age_bin  \n",
       "24987        0             0           0   25-50  \n",
       "216          0             1           0   25-50  \n",
       "76           0             0           0   25-50  \n",
       "256          0             0           0    0-25  \n",
       "1363         0             0           0   25-50  \n",
       "123          0             1           0   25-50  \n",
       "576          0             1           0   50-75  \n",
       "4409         0             1           0    0-25  \n",
       "136          0             1           0   25-50  \n",
       "237          0             1           0   25-50  \n",
       "553          0             0           0   25-50  \n",
       "1260         0             0           0   25-50  \n",
       "17           0             0           0   25-50  \n",
       "358          0             0           0    0-25  \n",
       "686          0             0           0    0-25  \n",
       "137          0             1           0    0-25  \n",
       "862          0             1           0   50-75  \n",
       "2189         0             0           0   25-50  \n",
       "926          0             0           0  75-100  \n",
       "1436         0             1           0    0-25  \n",
       "1443         0             0           0   50-75  \n",
       "1371         0             0           0   25-50  \n",
       "651          0             1           0    0-25  \n",
       "1893         0             1           0    0-25  \n",
       "4362         0             0           0   25-50  \n",
       "6            0             0           0    0-25  \n",
       "49           0             1           0   25-50  \n",
       "1135         0             1           0    0-25  \n",
       "1622         0             1           0   25-50  \n",
       "2009         0             1           0    0-25  \n",
       "...        ...           ...         ...     ...  \n",
       "75199        0             0           1    0-25  \n",
       "555          0             1           0   25-50  \n",
       "3891         0             0           0   50-75  \n",
       "48623        0             0           0  75-100  \n",
       "619          0             0           0   50-75  \n",
       "126          0             0           0   50-75  \n",
       "669          1             0           0   25-50  \n",
       "1583         1             0           0    0-25  \n",
       "1372         0             0           0    0-25  \n",
       "1131         0             0           0   25-50  \n",
       "1979         0             1           0   25-50  \n",
       "2940         0             1           0    0-25  \n",
       "1996         0             1           0    0-25  \n",
       "1351         0             0           0    0-25  \n",
       "568          0             1           0    0-25  \n",
       "1025         0             1           0   25-50  \n",
       "673          0             1           0   25-50  \n",
       "668          0             0           0   25-50  \n",
       "104          0             0           0    0-25  \n",
       "212          0             0           0   50-75  \n",
       "2014         0             1           0    0-25  \n",
       "3138         0             0           0   25-50  \n",
       "1407         0             0           0   25-50  \n",
       "440          0             0           0    0-25  \n",
       "44           0             0           0  75-100  \n",
       "185          0             1           0   25-50  \n",
       "172          0             1           0    0-25  \n",
       "336          0             1           0   50-75  \n",
       "14020        0             0           0   25-50  \n",
       "1430         0             1           0   50-75  \n",
       "\n",
       "[81 rows x 15 columns]"
      ]
     },
     "execution_count": 55,
     "metadata": {},
     "output_type": "execute_result"
    }
   ],
   "source": [
    "df.loc[df.groupby('neighbourhood').Attendance.idxmin()]"
   ]
  },
  {
   "cell_type": "code",
   "execution_count": 56,
   "metadata": {},
   "outputs": [
    {
     "data": {
      "text/plain": [
       "neighbourhood\n",
       "AEROPORTO              0\n",
       "ANDORINHAS             0\n",
       "ANTÔNIO HONÓRIO        0\n",
       "ARIOVALDO FAVALESSA    0\n",
       "BARRO VERMELHO         0\n",
       "BELA VISTA             0\n",
       "BENTO FERREIRA         0\n",
       "BOA VISTA              0\n",
       "BONFIM                 0\n",
       "CARATOÍRA              0\n",
       "CENTRO                 0\n",
       "COMDUSA                0\n",
       "CONQUISTA              0\n",
       "CONSOLAÇÃO             0\n",
       "CRUZAMENTO             0\n",
       "DA PENHA               0\n",
       "DE LOURDES             0\n",
       "DO CABRAL              0\n",
       "DO MOSCOSO             0\n",
       "DO QUADRO              0\n",
       "ENSEADA DO SUÁ         0\n",
       "ESTRELINHA             0\n",
       "FONTE GRANDE           0\n",
       "FORTE SÃO JOÃO         0\n",
       "FRADINHOS              0\n",
       "GOIABEIRAS             0\n",
       "GRANDE VITÓRIA         0\n",
       "GURIGICA               0\n",
       "HORTO                  0\n",
       "ILHA DAS CAIEIRAS      0\n",
       "                      ..\n",
       "PARQUE INDUSTRIAL      1\n",
       "PARQUE MOSCOSO         0\n",
       "PIEDADE                0\n",
       "PONTAL DE CAMBURI      0\n",
       "PRAIA DO CANTO         0\n",
       "PRAIA DO SUÁ           0\n",
       "REDENÇÃO               0\n",
       "REPÚBLICA              0\n",
       "RESISTÊNCIA            0\n",
       "ROMÃO                  0\n",
       "SANTA CECÍLIA          0\n",
       "SANTA CLARA            0\n",
       "SANTA HELENA           0\n",
       "SANTA LUÍZA            0\n",
       "SANTA LÚCIA            0\n",
       "SANTA MARTHA           0\n",
       "SANTA TEREZA           0\n",
       "SANTO ANDRÉ            0\n",
       "SANTO ANTÔNIO          0\n",
       "SANTOS DUMONT          0\n",
       "SANTOS REIS            0\n",
       "SEGURANÇA DO LAR       0\n",
       "SOLON BORGES           0\n",
       "SÃO BENEDITO           0\n",
       "SÃO CRISTÓVÃO          0\n",
       "SÃO JOSÉ               0\n",
       "SÃO PEDRO              0\n",
       "TABUAZEIRO             0\n",
       "UNIVERSITÁRIO          0\n",
       "VILA RUBIM             0\n",
       "Name: Attendance, Length: 81, dtype: int64"
      ]
     },
     "execution_count": 56,
     "metadata": {},
     "output_type": "execute_result"
    }
   ],
   "source": [
    "df.groupby('neighbourhood')['Attendance'].min()"
   ]
  },
  {
   "cell_type": "markdown",
   "metadata": {},
   "source": [
    "Among all neighbourhoods, the above scored a mean score of 0 in attendance, which means that the dominant behaviour of patients going to clinics in these areas is not showing up at all.. We should have heads up on these areas!! We used two ways to display them, one explicitly, and one including the 81 rows in the dataframe with other columns."
   ]
  },
  {
   "cell_type": "markdown",
   "metadata": {},
   "source": [
    "<a id='conclusions'></a>\n",
    "## Conclusions\n",
    "\n",
    "The following findings were obtained based on the previous investigation:\n",
    "    \n",
    "    • Reserving on the day of the appointment lead to higher attendance rate\n",
    "    • Receiving an sms decreases the rate of attendance and increases the no show rate\n",
    "    • 81 areas (neighborhoods) had shared least attendance rate, which says that a more detailed study on their logistics is to be done to find out the reason behind this\n",
    "    • Age group (100 - 125) followed by (0-25) and (25-50) were the most age groups with no show incidents, a closer insight on the (0-50) groups needs to take place, as the first one is a bit logical\n",
    "    • People with serious handcap conditions (degree 4) are likely to skip their appointments, this can also be understood\n",
    "    • People who scheduled the appointment on its same day are more likely to show up then those who schedule it in earlier days\n",
    "\n",
    "Notes:\n",
    "\n",
    "    • Those were the clear findings, as some differences between categories were very slight that we can't tell they really affect attendance (Ex. Alcoholism and Non Alcoholism)\n",
    "    • The second procedure was more likely to infer conclusions from, due its specific nature studying each group on its own, however the first gave a very clear numerical insights on all groups of data\n",
    "\n",
    "### Limitations\n",
    "The following limitations were faced during working on the project:\n",
    "\n",
    "   \n",
    "    • We cannot plot columns data against the ‘Attendance’ data in a scatterplot for better visualization due to its boolean nature\n",
    "    • Equal samples are not taken for each aspect, ex. Not the same number of males and females\n",
    "    • Explanation was only offered for four columns where the rest were left ambiguous, some were really clear but some needed more explanation\n",
    "    • The scarcity of some of the categorical samples decreased the reliability of findings (Example: the age group (100-125) included only 3 samples, which made the findings weak ones, as these 3 may be outliers to the original age group on a larger scale  \n"
   ]
  },
  {
   "cell_type": "code",
   "execution_count": 57,
   "metadata": {},
   "outputs": [
    {
     "data": {
      "text/plain": [
       "0"
      ]
     },
     "execution_count": 57,
     "metadata": {},
     "output_type": "execute_result"
    }
   ],
   "source": [
    "from subprocess import call\n",
    "call(['python', '-m', 'nbconvert', 'Investigate_a_Dataset.ipynb'])"
   ]
  },
  {
   "cell_type": "code",
   "execution_count": null,
   "metadata": {},
   "outputs": [],
   "source": []
  }
 ],
 "metadata": {
  "kernelspec": {
   "display_name": "my_env",
   "language": "python",
   "name": "my_env"
  },
  "language_info": {
   "codemirror_mode": {
    "name": "ipython",
    "version": 2
   },
   "file_extension": ".py",
   "mimetype": "text/x-python",
   "name": "python",
   "nbconvert_exporter": "python",
   "pygments_lexer": "ipython2",
   "version": "2.7.17"
  }
 },
 "nbformat": 4,
 "nbformat_minor": 2
}
